{
 "cells": [
  {
   "cell_type": "markdown",
   "id": "7b074c18",
   "metadata": {},
   "source": [
    "## Data Programing Problem Set 3 \n",
    "\n",
    "### Submitted By - Jinesh Kansara - 200543771"
   ]
  },
  {
   "cell_type": "markdown",
   "id": "3487b32a",
   "metadata": {},
   "source": [
    "### Question 1 - Occupations\n"
   ]
  },
  {
   "cell_type": "markdown",
   "id": "531c68c6",
   "metadata": {},
   "source": [
    "#### Step 1"
   ]
  },
  {
   "cell_type": "code",
   "execution_count": 2,
   "id": "cd0cea34",
   "metadata": {},
   "outputs": [],
   "source": [
    "import numpy as np \n",
    "import pandas as pd"
   ]
  },
  {
   "cell_type": "markdown",
   "id": "790c1a35",
   "metadata": {},
   "source": [
    "### Step 2 -3\n"
   ]
  },
  {
   "cell_type": "code",
   "execution_count": 3,
   "id": "83081b90",
   "metadata": {},
   "outputs": [],
   "source": [
    "users=pd.read_csv(r'https://raw.githubusercontent.com/justmarkham/DAT8/master/data/u.user',sep=\"|\")"
   ]
  },
  {
   "cell_type": "markdown",
   "id": "805d0718",
   "metadata": {},
   "source": [
    "### Step 4\n"
   ]
  },
  {
   "cell_type": "code",
   "execution_count": 4,
   "id": "4838743e",
   "metadata": {},
   "outputs": [
    {
     "data": {
      "text/plain": [
       "occupation\n",
       "administrator    38.746835\n",
       "artist           31.392857\n",
       "doctor           43.571429\n",
       "educator         42.010526\n",
       "engineer         36.388060\n",
       "entertainment    29.222222\n",
       "executive        38.718750\n",
       "healthcare       41.562500\n",
       "homemaker        32.571429\n",
       "lawyer           36.750000\n",
       "librarian        40.000000\n",
       "marketing        37.615385\n",
       "none             26.555556\n",
       "other            34.523810\n",
       "programmer       33.121212\n",
       "retired          63.071429\n",
       "salesman         35.666667\n",
       "scientist        35.548387\n",
       "student          22.081633\n",
       "technician       33.148148\n",
       "writer           36.311111\n",
       "Name: age, dtype: float64"
      ]
     },
     "execution_count": 4,
     "metadata": {},
     "output_type": "execute_result"
    }
   ],
   "source": [
    "users.groupby('occupation').age.mean()"
   ]
  },
  {
   "cell_type": "markdown",
   "id": "cbb1149a",
   "metadata": {},
   "source": [
    "### Step 5"
   ]
  },
  {
   "cell_type": "code",
   "execution_count": 5,
   "id": "080e5b0d",
   "metadata": {},
   "outputs": [],
   "source": [
    "male=users.where(users.gender=='M').groupby(['occupation','gender']).gender.count()\n",
    "totalCount=users.groupby('occupation').gender.count()\n"
   ]
  },
  {
   "cell_type": "code",
   "execution_count": 7,
   "id": "2d12fe62",
   "metadata": {},
   "outputs": [
    {
     "data": {
      "text/plain": [
       "occupation     gender\n",
       "doctor         M         100.000000\n",
       "engineer       M          97.014925\n",
       "technician     M          96.296296\n",
       "retired        M          92.857143\n",
       "programmer     M          90.909091\n",
       "executive      M          90.625000\n",
       "scientist      M          90.322581\n",
       "entertainment  M          88.888889\n",
       "lawyer         M          83.333333\n",
       "salesman       M          75.000000\n",
       "educator       M          72.631579\n",
       "student        M          69.387755\n",
       "other          M          65.714286\n",
       "marketing      M          61.538462\n",
       "writer         M          57.777778\n",
       "none           M          55.555556\n",
       "administrator  M          54.430380\n",
       "artist         M          53.571429\n",
       "librarian      M          43.137255\n",
       "healthcare     M          31.250000\n",
       "homemaker      M          14.285714\n",
       "Name: gender, dtype: float64"
      ]
     },
     "execution_count": 7,
     "metadata": {},
     "output_type": "execute_result"
    }
   ],
   "source": [
    "var = male/totalCount\n",
    "r=(var)*100\n",
    "r.sort_values(ascending=False)"
   ]
  },
  {
   "cell_type": "markdown",
   "id": "1e7c401d",
   "metadata": {},
   "source": [
    "### Step 6"
   ]
  },
  {
   "cell_type": "code",
   "execution_count": 8,
   "id": "625bb3ff",
   "metadata": {},
   "outputs": [
    {
     "data": {
      "text/html": [
       "<div>\n",
       "<style scoped>\n",
       "    .dataframe tbody tr th:only-of-type {\n",
       "        vertical-align: middle;\n",
       "    }\n",
       "\n",
       "    .dataframe tbody tr th {\n",
       "        vertical-align: top;\n",
       "    }\n",
       "\n",
       "    .dataframe thead th {\n",
       "        text-align: right;\n",
       "    }\n",
       "</style>\n",
       "<table border=\"1\" class=\"dataframe\">\n",
       "  <thead>\n",
       "    <tr style=\"text-align: right;\">\n",
       "      <th></th>\n",
       "      <th>max</th>\n",
       "    </tr>\n",
       "    <tr>\n",
       "      <th>occupation</th>\n",
       "      <th></th>\n",
       "    </tr>\n",
       "  </thead>\n",
       "  <tbody>\n",
       "    <tr>\n",
       "      <th>administrator</th>\n",
       "      <td>70</td>\n",
       "    </tr>\n",
       "    <tr>\n",
       "      <th>artist</th>\n",
       "      <td>48</td>\n",
       "    </tr>\n",
       "    <tr>\n",
       "      <th>doctor</th>\n",
       "      <td>64</td>\n",
       "    </tr>\n",
       "    <tr>\n",
       "      <th>educator</th>\n",
       "      <td>63</td>\n",
       "    </tr>\n",
       "    <tr>\n",
       "      <th>engineer</th>\n",
       "      <td>70</td>\n",
       "    </tr>\n",
       "    <tr>\n",
       "      <th>entertainment</th>\n",
       "      <td>50</td>\n",
       "    </tr>\n",
       "    <tr>\n",
       "      <th>executive</th>\n",
       "      <td>69</td>\n",
       "    </tr>\n",
       "    <tr>\n",
       "      <th>healthcare</th>\n",
       "      <td>62</td>\n",
       "    </tr>\n",
       "    <tr>\n",
       "      <th>homemaker</th>\n",
       "      <td>50</td>\n",
       "    </tr>\n",
       "    <tr>\n",
       "      <th>lawyer</th>\n",
       "      <td>53</td>\n",
       "    </tr>\n",
       "    <tr>\n",
       "      <th>librarian</th>\n",
       "      <td>69</td>\n",
       "    </tr>\n",
       "    <tr>\n",
       "      <th>marketing</th>\n",
       "      <td>55</td>\n",
       "    </tr>\n",
       "    <tr>\n",
       "      <th>none</th>\n",
       "      <td>55</td>\n",
       "    </tr>\n",
       "    <tr>\n",
       "      <th>other</th>\n",
       "      <td>64</td>\n",
       "    </tr>\n",
       "    <tr>\n",
       "      <th>programmer</th>\n",
       "      <td>63</td>\n",
       "    </tr>\n",
       "    <tr>\n",
       "      <th>retired</th>\n",
       "      <td>73</td>\n",
       "    </tr>\n",
       "    <tr>\n",
       "      <th>salesman</th>\n",
       "      <td>66</td>\n",
       "    </tr>\n",
       "    <tr>\n",
       "      <th>scientist</th>\n",
       "      <td>55</td>\n",
       "    </tr>\n",
       "    <tr>\n",
       "      <th>student</th>\n",
       "      <td>42</td>\n",
       "    </tr>\n",
       "    <tr>\n",
       "      <th>technician</th>\n",
       "      <td>55</td>\n",
       "    </tr>\n",
       "    <tr>\n",
       "      <th>writer</th>\n",
       "      <td>60</td>\n",
       "    </tr>\n",
       "  </tbody>\n",
       "</table>\n",
       "</div>"
      ],
      "text/plain": [
       "               max\n",
       "occupation        \n",
       "administrator   70\n",
       "artist          48\n",
       "doctor          64\n",
       "educator        63\n",
       "engineer        70\n",
       "entertainment   50\n",
       "executive       69\n",
       "healthcare      62\n",
       "homemaker       50\n",
       "lawyer          53\n",
       "librarian       69\n",
       "marketing       55\n",
       "none            55\n",
       "other           64\n",
       "programmer      63\n",
       "retired         73\n",
       "salesman        66\n",
       "scientist       55\n",
       "student         42\n",
       "technician      55\n",
       "writer          60"
      ]
     },
     "execution_count": 8,
     "metadata": {},
     "output_type": "execute_result"
    }
   ],
   "source": [
    "users.groupby(['occupation']).age.agg(['max'])"
   ]
  },
  {
   "cell_type": "code",
   "execution_count": 9,
   "id": "3c745d97",
   "metadata": {},
   "outputs": [
    {
     "data": {
      "text/html": [
       "<div>\n",
       "<style scoped>\n",
       "    .dataframe tbody tr th:only-of-type {\n",
       "        vertical-align: middle;\n",
       "    }\n",
       "\n",
       "    .dataframe tbody tr th {\n",
       "        vertical-align: top;\n",
       "    }\n",
       "\n",
       "    .dataframe thead th {\n",
       "        text-align: right;\n",
       "    }\n",
       "</style>\n",
       "<table border=\"1\" class=\"dataframe\">\n",
       "  <thead>\n",
       "    <tr style=\"text-align: right;\">\n",
       "      <th></th>\n",
       "      <th>min</th>\n",
       "    </tr>\n",
       "    <tr>\n",
       "      <th>occupation</th>\n",
       "      <th></th>\n",
       "    </tr>\n",
       "  </thead>\n",
       "  <tbody>\n",
       "    <tr>\n",
       "      <th>administrator</th>\n",
       "      <td>21</td>\n",
       "    </tr>\n",
       "    <tr>\n",
       "      <th>artist</th>\n",
       "      <td>19</td>\n",
       "    </tr>\n",
       "    <tr>\n",
       "      <th>doctor</th>\n",
       "      <td>28</td>\n",
       "    </tr>\n",
       "    <tr>\n",
       "      <th>educator</th>\n",
       "      <td>23</td>\n",
       "    </tr>\n",
       "    <tr>\n",
       "      <th>engineer</th>\n",
       "      <td>22</td>\n",
       "    </tr>\n",
       "    <tr>\n",
       "      <th>entertainment</th>\n",
       "      <td>15</td>\n",
       "    </tr>\n",
       "    <tr>\n",
       "      <th>executive</th>\n",
       "      <td>22</td>\n",
       "    </tr>\n",
       "    <tr>\n",
       "      <th>healthcare</th>\n",
       "      <td>22</td>\n",
       "    </tr>\n",
       "    <tr>\n",
       "      <th>homemaker</th>\n",
       "      <td>20</td>\n",
       "    </tr>\n",
       "    <tr>\n",
       "      <th>lawyer</th>\n",
       "      <td>21</td>\n",
       "    </tr>\n",
       "    <tr>\n",
       "      <th>librarian</th>\n",
       "      <td>23</td>\n",
       "    </tr>\n",
       "    <tr>\n",
       "      <th>marketing</th>\n",
       "      <td>24</td>\n",
       "    </tr>\n",
       "    <tr>\n",
       "      <th>none</th>\n",
       "      <td>11</td>\n",
       "    </tr>\n",
       "    <tr>\n",
       "      <th>other</th>\n",
       "      <td>13</td>\n",
       "    </tr>\n",
       "    <tr>\n",
       "      <th>programmer</th>\n",
       "      <td>20</td>\n",
       "    </tr>\n",
       "    <tr>\n",
       "      <th>retired</th>\n",
       "      <td>51</td>\n",
       "    </tr>\n",
       "    <tr>\n",
       "      <th>salesman</th>\n",
       "      <td>18</td>\n",
       "    </tr>\n",
       "    <tr>\n",
       "      <th>scientist</th>\n",
       "      <td>23</td>\n",
       "    </tr>\n",
       "    <tr>\n",
       "      <th>student</th>\n",
       "      <td>7</td>\n",
       "    </tr>\n",
       "    <tr>\n",
       "      <th>technician</th>\n",
       "      <td>21</td>\n",
       "    </tr>\n",
       "    <tr>\n",
       "      <th>writer</th>\n",
       "      <td>18</td>\n",
       "    </tr>\n",
       "  </tbody>\n",
       "</table>\n",
       "</div>"
      ],
      "text/plain": [
       "               min\n",
       "occupation        \n",
       "administrator   21\n",
       "artist          19\n",
       "doctor          28\n",
       "educator        23\n",
       "engineer        22\n",
       "entertainment   15\n",
       "executive       22\n",
       "healthcare      22\n",
       "homemaker       20\n",
       "lawyer          21\n",
       "librarian       23\n",
       "marketing       24\n",
       "none            11\n",
       "other           13\n",
       "programmer      20\n",
       "retired         51\n",
       "salesman        18\n",
       "scientist       23\n",
       "student          7\n",
       "technician      21\n",
       "writer          18"
      ]
     },
     "execution_count": 9,
     "metadata": {},
     "output_type": "execute_result"
    }
   ],
   "source": [
    "users.groupby(['occupation']).age.agg(['min'])"
   ]
  },
  {
   "cell_type": "markdown",
   "id": "1869b2d8",
   "metadata": {},
   "source": [
    "### Step 7"
   ]
  },
  {
   "cell_type": "code",
   "execution_count": 10,
   "id": "ae2ee494",
   "metadata": {},
   "outputs": [
    {
     "data": {
      "text/plain": [
       "gender  occupation   \n",
       "F       administrator    40.638889\n",
       "        artist           30.307692\n",
       "        educator         39.115385\n",
       "        engineer         29.500000\n",
       "        entertainment    31.000000\n",
       "        executive        44.000000\n",
       "        healthcare       39.818182\n",
       "        homemaker        34.166667\n",
       "        lawyer           39.500000\n",
       "        librarian        40.000000\n",
       "        marketing        37.200000\n",
       "        none             36.500000\n",
       "        other            35.472222\n",
       "        programmer       32.166667\n",
       "        retired          70.000000\n",
       "        salesman         27.000000\n",
       "        scientist        28.333333\n",
       "        student          20.750000\n",
       "        technician       38.000000\n",
       "        writer           37.631579\n",
       "M       administrator    37.162791\n",
       "        artist           32.333333\n",
       "        doctor           43.571429\n",
       "        educator         43.101449\n",
       "        engineer         36.600000\n",
       "        entertainment    29.000000\n",
       "        executive        38.172414\n",
       "        healthcare       45.400000\n",
       "        homemaker        23.000000\n",
       "        lawyer           36.200000\n",
       "        librarian        40.000000\n",
       "        marketing        37.875000\n",
       "        none             18.600000\n",
       "        other            34.028986\n",
       "        programmer       33.216667\n",
       "        retired          62.538462\n",
       "        salesman         38.555556\n",
       "        scientist        36.321429\n",
       "        student          22.669118\n",
       "        technician       32.961538\n",
       "        writer           35.346154\n",
       "Name: age, dtype: float64"
      ]
     },
     "execution_count": 10,
     "metadata": {},
     "output_type": "execute_result"
    }
   ],
   "source": [
    "users.groupby(['gender','occupation']).age.mean()"
   ]
  },
  {
   "cell_type": "code",
   "execution_count": 11,
   "id": "a4e8981f",
   "metadata": {},
   "outputs": [],
   "source": [
    "femaleUsers=users.where(users.gender=='F').groupby(['occupation','gender']).gender.agg(['count'])\n",
    "maleUsers=users.where(users.gender=='M').groupby(['occupation','gender']).gender.agg(['count'])"
   ]
  },
  {
   "cell_type": "code",
   "execution_count": 12,
   "id": "a210e0f5",
   "metadata": {},
   "outputs": [],
   "source": [
    "totalCount=users.groupby('occupation').gender.agg(['count'])\n"
   ]
  },
  {
   "cell_type": "code",
   "execution_count": 14,
   "id": "1779459f",
   "metadata": {},
   "outputs": [
    {
     "data": {
      "text/html": [
       "<div>\n",
       "<style scoped>\n",
       "    .dataframe tbody tr th:only-of-type {\n",
       "        vertical-align: middle;\n",
       "    }\n",
       "\n",
       "    .dataframe tbody tr th {\n",
       "        vertical-align: top;\n",
       "    }\n",
       "\n",
       "    .dataframe thead th {\n",
       "        text-align: right;\n",
       "    }\n",
       "</style>\n",
       "<table border=\"1\" class=\"dataframe\">\n",
       "  <thead>\n",
       "    <tr style=\"text-align: right;\">\n",
       "      <th></th>\n",
       "      <th>count_x</th>\n",
       "      <th>count_y</th>\n",
       "    </tr>\n",
       "    <tr>\n",
       "      <th>occupation</th>\n",
       "      <th></th>\n",
       "      <th></th>\n",
       "    </tr>\n",
       "  </thead>\n",
       "  <tbody>\n",
       "    <tr>\n",
       "      <th>administrator</th>\n",
       "      <td>54.430380</td>\n",
       "      <td>45.569620</td>\n",
       "    </tr>\n",
       "    <tr>\n",
       "      <th>artist</th>\n",
       "      <td>53.571429</td>\n",
       "      <td>46.428571</td>\n",
       "    </tr>\n",
       "    <tr>\n",
       "      <th>educator</th>\n",
       "      <td>72.631579</td>\n",
       "      <td>27.368421</td>\n",
       "    </tr>\n",
       "    <tr>\n",
       "      <th>engineer</th>\n",
       "      <td>97.014925</td>\n",
       "      <td>2.985075</td>\n",
       "    </tr>\n",
       "    <tr>\n",
       "      <th>entertainment</th>\n",
       "      <td>88.888889</td>\n",
       "      <td>11.111111</td>\n",
       "    </tr>\n",
       "    <tr>\n",
       "      <th>executive</th>\n",
       "      <td>90.625000</td>\n",
       "      <td>9.375000</td>\n",
       "    </tr>\n",
       "    <tr>\n",
       "      <th>healthcare</th>\n",
       "      <td>31.250000</td>\n",
       "      <td>68.750000</td>\n",
       "    </tr>\n",
       "    <tr>\n",
       "      <th>homemaker</th>\n",
       "      <td>14.285714</td>\n",
       "      <td>85.714286</td>\n",
       "    </tr>\n",
       "    <tr>\n",
       "      <th>lawyer</th>\n",
       "      <td>83.333333</td>\n",
       "      <td>16.666667</td>\n",
       "    </tr>\n",
       "    <tr>\n",
       "      <th>librarian</th>\n",
       "      <td>43.137255</td>\n",
       "      <td>56.862745</td>\n",
       "    </tr>\n",
       "    <tr>\n",
       "      <th>marketing</th>\n",
       "      <td>61.538462</td>\n",
       "      <td>38.461538</td>\n",
       "    </tr>\n",
       "    <tr>\n",
       "      <th>none</th>\n",
       "      <td>55.555556</td>\n",
       "      <td>44.444444</td>\n",
       "    </tr>\n",
       "    <tr>\n",
       "      <th>other</th>\n",
       "      <td>65.714286</td>\n",
       "      <td>34.285714</td>\n",
       "    </tr>\n",
       "    <tr>\n",
       "      <th>programmer</th>\n",
       "      <td>90.909091</td>\n",
       "      <td>9.090909</td>\n",
       "    </tr>\n",
       "    <tr>\n",
       "      <th>retired</th>\n",
       "      <td>92.857143</td>\n",
       "      <td>7.142857</td>\n",
       "    </tr>\n",
       "    <tr>\n",
       "      <th>salesman</th>\n",
       "      <td>75.000000</td>\n",
       "      <td>25.000000</td>\n",
       "    </tr>\n",
       "    <tr>\n",
       "      <th>scientist</th>\n",
       "      <td>90.322581</td>\n",
       "      <td>9.677419</td>\n",
       "    </tr>\n",
       "    <tr>\n",
       "      <th>student</th>\n",
       "      <td>69.387755</td>\n",
       "      <td>30.612245</td>\n",
       "    </tr>\n",
       "    <tr>\n",
       "      <th>technician</th>\n",
       "      <td>96.296296</td>\n",
       "      <td>3.703704</td>\n",
       "    </tr>\n",
       "    <tr>\n",
       "      <th>writer</th>\n",
       "      <td>57.777778</td>\n",
       "      <td>42.222222</td>\n",
       "    </tr>\n",
       "  </tbody>\n",
       "</table>\n",
       "</div>"
      ],
      "text/plain": [
       "                 count_x    count_y\n",
       "occupation                         \n",
       "administrator  54.430380  45.569620\n",
       "artist         53.571429  46.428571\n",
       "educator       72.631579  27.368421\n",
       "engineer       97.014925   2.985075\n",
       "entertainment  88.888889  11.111111\n",
       "executive      90.625000   9.375000\n",
       "healthcare     31.250000  68.750000\n",
       "homemaker      14.285714  85.714286\n",
       "lawyer         83.333333  16.666667\n",
       "librarian      43.137255  56.862745\n",
       "marketing      61.538462  38.461538\n",
       "none           55.555556  44.444444\n",
       "other          65.714286  34.285714\n",
       "programmer     90.909091   9.090909\n",
       "retired        92.857143   7.142857\n",
       "salesman       75.000000  25.000000\n",
       "scientist      90.322581   9.677419\n",
       "student        69.387755  30.612245\n",
       "technician     96.296296   3.703704\n",
       "writer         57.777778  42.222222"
      ]
     },
     "execution_count": 14,
     "metadata": {},
     "output_type": "execute_result"
    }
   ],
   "source": [
    "maleR=(maleUsers/totalCount)*100\n",
    "femaleR=(femaleUsers/totalCount)*100\n",
    "pd.merge(maleR,femaleR,on='occupation')"
   ]
  },
  {
   "cell_type": "markdown",
   "id": "2148c4b2",
   "metadata": {},
   "source": [
    "### Question 2"
   ]
  },
  {
   "cell_type": "markdown",
   "id": "b4b7ac0d",
   "metadata": {},
   "source": [
    "### Step 1"
   ]
  },
  {
   "cell_type": "code",
   "execution_count": 15,
   "id": "135b3bcb",
   "metadata": {},
   "outputs": [],
   "source": [
    "import numpy as np \n",
    "import pandas as pd"
   ]
  },
  {
   "cell_type": "markdown",
   "id": "89177fed",
   "metadata": {},
   "source": [
    "### Step 2 -3"
   ]
  },
  {
   "cell_type": "code",
   "execution_count": 16,
   "id": "a03a113e",
   "metadata": {},
   "outputs": [],
   "source": [
    "euro12=pd.read_csv(r'https://raw.githubusercontent.com/guipsamora/pandas_exercises/master/02_Filtering_%26_Sorting/Euro12/Euro_2012_stats_TEAM.csv',sep=\",\")"
   ]
  },
  {
   "cell_type": "markdown",
   "id": "16c63332",
   "metadata": {},
   "source": [
    "### Step 4"
   ]
  },
  {
   "cell_type": "code",
   "execution_count": 19,
   "id": "3f7c50d2",
   "metadata": {},
   "outputs": [
    {
     "data": {
      "text/plain": [
       "Index(['Team', 'Goals', 'Shots on target', 'Shots off target',\n",
       "       'Shooting Accuracy', '% Goals-to-shots', 'Total shots (inc. Blocked)',\n",
       "       'Hit Woodwork', 'Penalty goals', 'Penalties not scored', 'Headed goals',\n",
       "       'Passes', 'Passes completed', 'Passing Accuracy', 'Touches', 'Crosses',\n",
       "       'Dribbles', 'Corners Taken', 'Tackles', 'Clearances', 'Interceptions',\n",
       "       'Clearances off line', 'Clean Sheets', 'Blocks', 'Goals conceded',\n",
       "       'Saves made', 'Saves-to-shots ratio', 'Fouls Won', 'Fouls Conceded',\n",
       "       'Offsides', 'Yellow Cards', 'Red Cards', 'Subs on', 'Subs off',\n",
       "       'Players Used'],\n",
       "      dtype='object')"
      ]
     },
     "execution_count": 19,
     "metadata": {},
     "output_type": "execute_result"
    }
   ],
   "source": [
    "euro12.columns\n"
   ]
  },
  {
   "cell_type": "code",
   "execution_count": 21,
   "id": "5f5c6237",
   "metadata": {},
   "outputs": [
    {
     "data": {
      "text/plain": [
       "0      4\n",
       "1      4\n",
       "2      4\n",
       "3      5\n",
       "4      3\n",
       "5     10\n",
       "6      5\n",
       "7      6\n",
       "8      2\n",
       "9      2\n",
       "10     6\n",
       "11     1\n",
       "12     5\n",
       "13    12\n",
       "14     5\n",
       "15     2\n",
       "Name: Goals, dtype: int64"
      ]
     },
     "execution_count": 21,
     "metadata": {},
     "output_type": "execute_result"
    }
   ],
   "source": [
    "euro12.Goals"
   ]
  },
  {
   "cell_type": "markdown",
   "id": "9bd88311",
   "metadata": {},
   "source": [
    "### Step 5"
   ]
  },
  {
   "cell_type": "code",
   "execution_count": 23,
   "id": "81bc4f8b",
   "metadata": {},
   "outputs": [
    {
     "name": "stdout",
     "output_type": "stream",
     "text": [
      "Team\n",
      "Croatia                1\n",
      "Czech Republic         1\n",
      "Denmark                1\n",
      "England                1\n",
      "France                 1\n",
      "Germany                1\n",
      "Greece                 1\n",
      "Italy                  1\n",
      "Netherlands            1\n",
      "Poland                 1\n",
      "Portugal               1\n",
      "Republic of Ireland    1\n",
      "Russia                 1\n",
      "Spain                  1\n",
      "Sweden                 1\n",
      "Ukraine                1\n",
      "Name: Team, dtype: int64\n"
     ]
    }
   ],
   "source": [
    "total=euro12.groupby('Team').Team.count()\n",
    "print(total)"
   ]
  },
  {
   "cell_type": "code",
   "execution_count": 25,
   "id": "6d833502",
   "metadata": {},
   "outputs": [
    {
     "name": "stdout",
     "output_type": "stream",
     "text": [
      "16\n"
     ]
    }
   ],
   "source": [
    "print(len(total))"
   ]
  },
  {
   "cell_type": "markdown",
   "id": "5f2aac23",
   "metadata": {},
   "source": [
    "### Step 6"
   ]
  },
  {
   "cell_type": "code",
   "execution_count": 26,
   "id": "09d613b8",
   "metadata": {},
   "outputs": [
    {
     "name": "stdout",
     "output_type": "stream",
     "text": [
      "Total Columns =  35\n"
     ]
    }
   ],
   "source": [
    "print(\"Total Columns = \", len(euro12.columns))"
   ]
  },
  {
   "cell_type": "markdown",
   "id": "0ea90ac3",
   "metadata": {},
   "source": [
    "### Step 7"
   ]
  },
  {
   "cell_type": "code",
   "execution_count": 27,
   "id": "f9cbc0d0",
   "metadata": {},
   "outputs": [],
   "source": [
    "data=euro12[['Team','Yellow Cards','Red Cards']]\n"
   ]
  },
  {
   "cell_type": "code",
   "execution_count": 28,
   "id": "be8e7ed5",
   "metadata": {},
   "outputs": [
    {
     "data": {
      "text/html": [
       "<div>\n",
       "<style scoped>\n",
       "    .dataframe tbody tr th:only-of-type {\n",
       "        vertical-align: middle;\n",
       "    }\n",
       "\n",
       "    .dataframe tbody tr th {\n",
       "        vertical-align: top;\n",
       "    }\n",
       "\n",
       "    .dataframe thead th {\n",
       "        text-align: right;\n",
       "    }\n",
       "</style>\n",
       "<table border=\"1\" class=\"dataframe\">\n",
       "  <thead>\n",
       "    <tr style=\"text-align: right;\">\n",
       "      <th></th>\n",
       "      <th>Team</th>\n",
       "      <th>Yellow Cards</th>\n",
       "      <th>Red Cards</th>\n",
       "    </tr>\n",
       "  </thead>\n",
       "  <tbody>\n",
       "    <tr>\n",
       "      <th>0</th>\n",
       "      <td>Croatia</td>\n",
       "      <td>9</td>\n",
       "      <td>0</td>\n",
       "    </tr>\n",
       "    <tr>\n",
       "      <th>1</th>\n",
       "      <td>Czech Republic</td>\n",
       "      <td>7</td>\n",
       "      <td>0</td>\n",
       "    </tr>\n",
       "    <tr>\n",
       "      <th>2</th>\n",
       "      <td>Denmark</td>\n",
       "      <td>4</td>\n",
       "      <td>0</td>\n",
       "    </tr>\n",
       "    <tr>\n",
       "      <th>3</th>\n",
       "      <td>England</td>\n",
       "      <td>5</td>\n",
       "      <td>0</td>\n",
       "    </tr>\n",
       "    <tr>\n",
       "      <th>4</th>\n",
       "      <td>France</td>\n",
       "      <td>6</td>\n",
       "      <td>0</td>\n",
       "    </tr>\n",
       "    <tr>\n",
       "      <th>5</th>\n",
       "      <td>Germany</td>\n",
       "      <td>4</td>\n",
       "      <td>0</td>\n",
       "    </tr>\n",
       "    <tr>\n",
       "      <th>6</th>\n",
       "      <td>Greece</td>\n",
       "      <td>9</td>\n",
       "      <td>1</td>\n",
       "    </tr>\n",
       "    <tr>\n",
       "      <th>7</th>\n",
       "      <td>Italy</td>\n",
       "      <td>16</td>\n",
       "      <td>0</td>\n",
       "    </tr>\n",
       "    <tr>\n",
       "      <th>8</th>\n",
       "      <td>Netherlands</td>\n",
       "      <td>5</td>\n",
       "      <td>0</td>\n",
       "    </tr>\n",
       "    <tr>\n",
       "      <th>9</th>\n",
       "      <td>Poland</td>\n",
       "      <td>7</td>\n",
       "      <td>1</td>\n",
       "    </tr>\n",
       "    <tr>\n",
       "      <th>10</th>\n",
       "      <td>Portugal</td>\n",
       "      <td>12</td>\n",
       "      <td>0</td>\n",
       "    </tr>\n",
       "    <tr>\n",
       "      <th>11</th>\n",
       "      <td>Republic of Ireland</td>\n",
       "      <td>6</td>\n",
       "      <td>1</td>\n",
       "    </tr>\n",
       "    <tr>\n",
       "      <th>12</th>\n",
       "      <td>Russia</td>\n",
       "      <td>6</td>\n",
       "      <td>0</td>\n",
       "    </tr>\n",
       "    <tr>\n",
       "      <th>13</th>\n",
       "      <td>Spain</td>\n",
       "      <td>11</td>\n",
       "      <td>0</td>\n",
       "    </tr>\n",
       "    <tr>\n",
       "      <th>14</th>\n",
       "      <td>Sweden</td>\n",
       "      <td>7</td>\n",
       "      <td>0</td>\n",
       "    </tr>\n",
       "    <tr>\n",
       "      <th>15</th>\n",
       "      <td>Ukraine</td>\n",
       "      <td>5</td>\n",
       "      <td>0</td>\n",
       "    </tr>\n",
       "  </tbody>\n",
       "</table>\n",
       "</div>"
      ],
      "text/plain": [
       "                   Team  Yellow Cards  Red Cards\n",
       "0               Croatia             9          0\n",
       "1        Czech Republic             7          0\n",
       "2               Denmark             4          0\n",
       "3               England             5          0\n",
       "4                France             6          0\n",
       "5               Germany             4          0\n",
       "6                Greece             9          1\n",
       "7                 Italy            16          0\n",
       "8           Netherlands             5          0\n",
       "9                Poland             7          1\n",
       "10             Portugal            12          0\n",
       "11  Republic of Ireland             6          1\n",
       "12               Russia             6          0\n",
       "13                Spain            11          0\n",
       "14               Sweden             7          0\n",
       "15              Ukraine             5          0"
      ]
     },
     "execution_count": 28,
     "metadata": {},
     "output_type": "execute_result"
    }
   ],
   "source": [
    "discipline=pd.DataFrame(data)\n",
    "discipline"
   ]
  },
  {
   "cell_type": "markdown",
   "id": "1690275b",
   "metadata": {},
   "source": [
    "### Step 8"
   ]
  },
  {
   "cell_type": "code",
   "execution_count": 29,
   "id": "72d89dc4",
   "metadata": {},
   "outputs": [
    {
     "data": {
      "text/html": [
       "<div>\n",
       "<style scoped>\n",
       "    .dataframe tbody tr th:only-of-type {\n",
       "        vertical-align: middle;\n",
       "    }\n",
       "\n",
       "    .dataframe tbody tr th {\n",
       "        vertical-align: top;\n",
       "    }\n",
       "\n",
       "    .dataframe thead th {\n",
       "        text-align: right;\n",
       "    }\n",
       "</style>\n",
       "<table border=\"1\" class=\"dataframe\">\n",
       "  <thead>\n",
       "    <tr style=\"text-align: right;\">\n",
       "      <th></th>\n",
       "      <th>Team</th>\n",
       "      <th>Yellow Cards</th>\n",
       "      <th>Red Cards</th>\n",
       "    </tr>\n",
       "  </thead>\n",
       "  <tbody>\n",
       "    <tr>\n",
       "      <th>2</th>\n",
       "      <td>Denmark</td>\n",
       "      <td>4</td>\n",
       "      <td>0</td>\n",
       "    </tr>\n",
       "    <tr>\n",
       "      <th>5</th>\n",
       "      <td>Germany</td>\n",
       "      <td>4</td>\n",
       "      <td>0</td>\n",
       "    </tr>\n",
       "    <tr>\n",
       "      <th>3</th>\n",
       "      <td>England</td>\n",
       "      <td>5</td>\n",
       "      <td>0</td>\n",
       "    </tr>\n",
       "    <tr>\n",
       "      <th>8</th>\n",
       "      <td>Netherlands</td>\n",
       "      <td>5</td>\n",
       "      <td>0</td>\n",
       "    </tr>\n",
       "    <tr>\n",
       "      <th>15</th>\n",
       "      <td>Ukraine</td>\n",
       "      <td>5</td>\n",
       "      <td>0</td>\n",
       "    </tr>\n",
       "    <tr>\n",
       "      <th>4</th>\n",
       "      <td>France</td>\n",
       "      <td>6</td>\n",
       "      <td>0</td>\n",
       "    </tr>\n",
       "    <tr>\n",
       "      <th>12</th>\n",
       "      <td>Russia</td>\n",
       "      <td>6</td>\n",
       "      <td>0</td>\n",
       "    </tr>\n",
       "    <tr>\n",
       "      <th>1</th>\n",
       "      <td>Czech Republic</td>\n",
       "      <td>7</td>\n",
       "      <td>0</td>\n",
       "    </tr>\n",
       "    <tr>\n",
       "      <th>14</th>\n",
       "      <td>Sweden</td>\n",
       "      <td>7</td>\n",
       "      <td>0</td>\n",
       "    </tr>\n",
       "    <tr>\n",
       "      <th>0</th>\n",
       "      <td>Croatia</td>\n",
       "      <td>9</td>\n",
       "      <td>0</td>\n",
       "    </tr>\n",
       "    <tr>\n",
       "      <th>13</th>\n",
       "      <td>Spain</td>\n",
       "      <td>11</td>\n",
       "      <td>0</td>\n",
       "    </tr>\n",
       "    <tr>\n",
       "      <th>10</th>\n",
       "      <td>Portugal</td>\n",
       "      <td>12</td>\n",
       "      <td>0</td>\n",
       "    </tr>\n",
       "    <tr>\n",
       "      <th>7</th>\n",
       "      <td>Italy</td>\n",
       "      <td>16</td>\n",
       "      <td>0</td>\n",
       "    </tr>\n",
       "    <tr>\n",
       "      <th>11</th>\n",
       "      <td>Republic of Ireland</td>\n",
       "      <td>6</td>\n",
       "      <td>1</td>\n",
       "    </tr>\n",
       "    <tr>\n",
       "      <th>9</th>\n",
       "      <td>Poland</td>\n",
       "      <td>7</td>\n",
       "      <td>1</td>\n",
       "    </tr>\n",
       "    <tr>\n",
       "      <th>6</th>\n",
       "      <td>Greece</td>\n",
       "      <td>9</td>\n",
       "      <td>1</td>\n",
       "    </tr>\n",
       "  </tbody>\n",
       "</table>\n",
       "</div>"
      ],
      "text/plain": [
       "                   Team  Yellow Cards  Red Cards\n",
       "2               Denmark             4          0\n",
       "5               Germany             4          0\n",
       "3               England             5          0\n",
       "8           Netherlands             5          0\n",
       "15              Ukraine             5          0\n",
       "4                France             6          0\n",
       "12               Russia             6          0\n",
       "1        Czech Republic             7          0\n",
       "14               Sweden             7          0\n",
       "0               Croatia             9          0\n",
       "13                Spain            11          0\n",
       "10             Portugal            12          0\n",
       "7                 Italy            16          0\n",
       "11  Republic of Ireland             6          1\n",
       "9                Poland             7          1\n",
       "6                Greece             9          1"
      ]
     },
     "execution_count": 29,
     "metadata": {},
     "output_type": "execute_result"
    }
   ],
   "source": [
    "discipline.sort_values(by=['Red Cards','Yellow Cards'])"
   ]
  },
  {
   "cell_type": "markdown",
   "id": "72234e82",
   "metadata": {},
   "source": [
    "### Step 9"
   ]
  },
  {
   "cell_type": "code",
   "execution_count": 30,
   "id": "0ab70df5",
   "metadata": {},
   "outputs": [
    {
     "data": {
      "text/plain": [
       "Team\n",
       "Croatia                 9.0\n",
       "Czech Republic          7.0\n",
       "Denmark                 4.0\n",
       "England                 5.0\n",
       "France                  6.0\n",
       "Germany                 4.0\n",
       "Greece                  9.0\n",
       "Italy                  16.0\n",
       "Netherlands             5.0\n",
       "Poland                  7.0\n",
       "Portugal               12.0\n",
       "Republic of Ireland     6.0\n",
       "Russia                  6.0\n",
       "Spain                  11.0\n",
       "Sweden                  7.0\n",
       "Ukraine                 5.0\n",
       "Name: Yellow Cards, dtype: float64"
      ]
     },
     "execution_count": 30,
     "metadata": {},
     "output_type": "execute_result"
    }
   ],
   "source": [
    "discipline.groupby('Team')['Yellow Cards'].mean()"
   ]
  },
  {
   "cell_type": "markdown",
   "id": "ad6a5b76",
   "metadata": {},
   "source": [
    "### Step 10"
   ]
  },
  {
   "cell_type": "code",
   "execution_count": 31,
   "id": "f1383723",
   "metadata": {},
   "outputs": [
    {
     "data": {
      "text/html": [
       "<div>\n",
       "<style scoped>\n",
       "    .dataframe tbody tr th:only-of-type {\n",
       "        vertical-align: middle;\n",
       "    }\n",
       "\n",
       "    .dataframe tbody tr th {\n",
       "        vertical-align: top;\n",
       "    }\n",
       "\n",
       "    .dataframe thead th {\n",
       "        text-align: right;\n",
       "    }\n",
       "</style>\n",
       "<table border=\"1\" class=\"dataframe\">\n",
       "  <thead>\n",
       "    <tr style=\"text-align: right;\">\n",
       "      <th></th>\n",
       "      <th>Team</th>\n",
       "      <th>Goals</th>\n",
       "      <th>Shots on target</th>\n",
       "      <th>Shots off target</th>\n",
       "      <th>Shooting Accuracy</th>\n",
       "      <th>% Goals-to-shots</th>\n",
       "      <th>Total shots (inc. Blocked)</th>\n",
       "      <th>Hit Woodwork</th>\n",
       "      <th>Penalty goals</th>\n",
       "      <th>Penalties not scored</th>\n",
       "      <th>...</th>\n",
       "      <th>Saves made</th>\n",
       "      <th>Saves-to-shots ratio</th>\n",
       "      <th>Fouls Won</th>\n",
       "      <th>Fouls Conceded</th>\n",
       "      <th>Offsides</th>\n",
       "      <th>Yellow Cards</th>\n",
       "      <th>Red Cards</th>\n",
       "      <th>Subs on</th>\n",
       "      <th>Subs off</th>\n",
       "      <th>Players Used</th>\n",
       "    </tr>\n",
       "  </thead>\n",
       "  <tbody>\n",
       "    <tr>\n",
       "      <th>5</th>\n",
       "      <td>Germany</td>\n",
       "      <td>10</td>\n",
       "      <td>32</td>\n",
       "      <td>32</td>\n",
       "      <td>47.8%</td>\n",
       "      <td>15.6%</td>\n",
       "      <td>80</td>\n",
       "      <td>2</td>\n",
       "      <td>1</td>\n",
       "      <td>0</td>\n",
       "      <td>...</td>\n",
       "      <td>10</td>\n",
       "      <td>62.6%</td>\n",
       "      <td>63</td>\n",
       "      <td>49</td>\n",
       "      <td>12</td>\n",
       "      <td>4</td>\n",
       "      <td>0</td>\n",
       "      <td>15</td>\n",
       "      <td>15</td>\n",
       "      <td>17</td>\n",
       "    </tr>\n",
       "    <tr>\n",
       "      <th>13</th>\n",
       "      <td>Spain</td>\n",
       "      <td>12</td>\n",
       "      <td>42</td>\n",
       "      <td>33</td>\n",
       "      <td>55.9%</td>\n",
       "      <td>16.0%</td>\n",
       "      <td>100</td>\n",
       "      <td>0</td>\n",
       "      <td>1</td>\n",
       "      <td>0</td>\n",
       "      <td>...</td>\n",
       "      <td>15</td>\n",
       "      <td>93.8%</td>\n",
       "      <td>102</td>\n",
       "      <td>83</td>\n",
       "      <td>19</td>\n",
       "      <td>11</td>\n",
       "      <td>0</td>\n",
       "      <td>17</td>\n",
       "      <td>17</td>\n",
       "      <td>18</td>\n",
       "    </tr>\n",
       "  </tbody>\n",
       "</table>\n",
       "<p>2 rows × 35 columns</p>\n",
       "</div>"
      ],
      "text/plain": [
       "       Team  Goals  Shots on target  Shots off target Shooting Accuracy   \n",
       "5   Germany     10               32                32             47.8%  \\\n",
       "13    Spain     12               42                33             55.9%   \n",
       "\n",
       "   % Goals-to-shots  Total shots (inc. Blocked)  Hit Woodwork  Penalty goals   \n",
       "5             15.6%                          80             2              1  \\\n",
       "13            16.0%                         100             0              1   \n",
       "\n",
       "    Penalties not scored  ...  Saves made  Saves-to-shots ratio  Fouls Won   \n",
       "5                      0  ...          10                 62.6%         63  \\\n",
       "13                     0  ...          15                 93.8%        102   \n",
       "\n",
       "   Fouls Conceded  Offsides  Yellow Cards  Red Cards  Subs on  Subs off   \n",
       "5              49        12             4          0       15        15  \\\n",
       "13             83        19            11          0       17        17   \n",
       "\n",
       "    Players Used  \n",
       "5             17  \n",
       "13            18  \n",
       "\n",
       "[2 rows x 35 columns]"
      ]
     },
     "execution_count": 31,
     "metadata": {},
     "output_type": "execute_result"
    }
   ],
   "source": [
    "euro12[euro12.Goals > 6]"
   ]
  },
  {
   "cell_type": "markdown",
   "id": "0ab23bb5",
   "metadata": {},
   "source": [
    "### Step 11"
   ]
  },
  {
   "cell_type": "code",
   "execution_count": 36,
   "id": "34970a5c",
   "metadata": {},
   "outputs": [
    {
     "data": {
      "text/html": [
       "<div>\n",
       "<style scoped>\n",
       "    .dataframe tbody tr th:only-of-type {\n",
       "        vertical-align: middle;\n",
       "    }\n",
       "\n",
       "    .dataframe tbody tr th {\n",
       "        vertical-align: top;\n",
       "    }\n",
       "\n",
       "    .dataframe thead th {\n",
       "        text-align: right;\n",
       "    }\n",
       "</style>\n",
       "<table border=\"1\" class=\"dataframe\">\n",
       "  <thead>\n",
       "    <tr style=\"text-align: right;\">\n",
       "      <th></th>\n",
       "      <th>Team</th>\n",
       "      <th>Goals</th>\n",
       "      <th>Shots on target</th>\n",
       "      <th>Shots off target</th>\n",
       "      <th>Shooting Accuracy</th>\n",
       "      <th>% Goals-to-shots</th>\n",
       "      <th>Total shots (inc. Blocked)</th>\n",
       "      <th>Hit Woodwork</th>\n",
       "      <th>Penalty goals</th>\n",
       "      <th>Penalties not scored</th>\n",
       "      <th>...</th>\n",
       "      <th>Saves made</th>\n",
       "      <th>Saves-to-shots ratio</th>\n",
       "      <th>Fouls Won</th>\n",
       "      <th>Fouls Conceded</th>\n",
       "      <th>Offsides</th>\n",
       "      <th>Yellow Cards</th>\n",
       "      <th>Red Cards</th>\n",
       "      <th>Subs on</th>\n",
       "      <th>Subs off</th>\n",
       "      <th>Players Used</th>\n",
       "    </tr>\n",
       "  </thead>\n",
       "  <tbody>\n",
       "  </tbody>\n",
       "</table>\n",
       "<p>0 rows × 35 columns</p>\n",
       "</div>"
      ],
      "text/plain": [
       "Empty DataFrame\n",
       "Columns: [Team, Goals, Shots on target, Shots off target, Shooting Accuracy, % Goals-to-shots, Total shots (inc. Blocked), Hit Woodwork, Penalty goals, Penalties not scored, Headed goals, Passes, Passes completed, Passing Accuracy, Touches, Crosses, Dribbles, Corners Taken, Tackles, Clearances, Interceptions, Clearances off line, Clean Sheets, Blocks, Goals conceded, Saves made, Saves-to-shots ratio, Fouls Won, Fouls Conceded, Offsides, Yellow Cards, Red Cards, Subs on, Subs off, Players Used]\n",
       "Index: []\n",
       "\n",
       "[0 rows x 35 columns]"
      ]
     },
     "execution_count": 36,
     "metadata": {},
     "output_type": "execute_result"
    }
   ],
   "source": [
    "euro12[euro12.Team.str.startswith('G')]"
   ]
  },
  {
   "cell_type": "markdown",
   "id": "e254a7c4",
   "metadata": {},
   "source": [
    "### Step 12"
   ]
  },
  {
   "cell_type": "code",
   "execution_count": 37,
   "id": "17ca921d",
   "metadata": {},
   "outputs": [
    {
     "data": {
      "text/html": [
       "<div>\n",
       "<style scoped>\n",
       "    .dataframe tbody tr th:only-of-type {\n",
       "        vertical-align: middle;\n",
       "    }\n",
       "\n",
       "    .dataframe tbody tr th {\n",
       "        vertical-align: top;\n",
       "    }\n",
       "\n",
       "    .dataframe thead th {\n",
       "        text-align: right;\n",
       "    }\n",
       "</style>\n",
       "<table border=\"1\" class=\"dataframe\">\n",
       "  <thead>\n",
       "    <tr style=\"text-align: right;\">\n",
       "      <th></th>\n",
       "      <th>Team</th>\n",
       "      <th>Goals</th>\n",
       "      <th>Shots on target</th>\n",
       "      <th>Shots off target</th>\n",
       "      <th>Shooting Accuracy</th>\n",
       "      <th>% Goals-to-shots</th>\n",
       "      <th>Total shots (inc. Blocked)</th>\n",
       "      <th>Hit Woodwork</th>\n",
       "      <th>Penalty goals</th>\n",
       "      <th>Penalties not scored</th>\n",
       "      <th>...</th>\n",
       "      <th>Saves made</th>\n",
       "      <th>Saves-to-shots ratio</th>\n",
       "      <th>Fouls Won</th>\n",
       "      <th>Fouls Conceded</th>\n",
       "      <th>Offsides</th>\n",
       "      <th>Yellow Cards</th>\n",
       "      <th>Red Cards</th>\n",
       "      <th>Subs on</th>\n",
       "      <th>Subs off</th>\n",
       "      <th>Players Used</th>\n",
       "    </tr>\n",
       "  </thead>\n",
       "  <tbody>\n",
       "    <tr>\n",
       "      <th>0</th>\n",
       "      <td>Team</td>\n",
       "      <td>Croatia</td>\n",
       "      <td>13</td>\n",
       "      <td>12</td>\n",
       "      <td>51.9%</td>\n",
       "      <td>16.0%</td>\n",
       "      <td>32</td>\n",
       "      <td>0</td>\n",
       "      <td>0</td>\n",
       "      <td>0</td>\n",
       "      <td>...</td>\n",
       "      <td>13</td>\n",
       "      <td>81.3%</td>\n",
       "      <td>41</td>\n",
       "      <td>62</td>\n",
       "      <td>2</td>\n",
       "      <td>9</td>\n",
       "      <td>0</td>\n",
       "      <td>9</td>\n",
       "      <td>9</td>\n",
       "      <td>16</td>\n",
       "    </tr>\n",
       "    <tr>\n",
       "      <th>1</th>\n",
       "      <td>Team</td>\n",
       "      <td>Czech Republic</td>\n",
       "      <td>13</td>\n",
       "      <td>18</td>\n",
       "      <td>41.9%</td>\n",
       "      <td>12.9%</td>\n",
       "      <td>39</td>\n",
       "      <td>0</td>\n",
       "      <td>0</td>\n",
       "      <td>0</td>\n",
       "      <td>...</td>\n",
       "      <td>9</td>\n",
       "      <td>60.1%</td>\n",
       "      <td>53</td>\n",
       "      <td>73</td>\n",
       "      <td>8</td>\n",
       "      <td>7</td>\n",
       "      <td>0</td>\n",
       "      <td>11</td>\n",
       "      <td>11</td>\n",
       "      <td>19</td>\n",
       "    </tr>\n",
       "    <tr>\n",
       "      <th>2</th>\n",
       "      <td>Team</td>\n",
       "      <td>Denmark</td>\n",
       "      <td>10</td>\n",
       "      <td>10</td>\n",
       "      <td>50.0%</td>\n",
       "      <td>20.0%</td>\n",
       "      <td>27</td>\n",
       "      <td>1</td>\n",
       "      <td>0</td>\n",
       "      <td>0</td>\n",
       "      <td>...</td>\n",
       "      <td>10</td>\n",
       "      <td>66.7%</td>\n",
       "      <td>25</td>\n",
       "      <td>38</td>\n",
       "      <td>8</td>\n",
       "      <td>4</td>\n",
       "      <td>0</td>\n",
       "      <td>7</td>\n",
       "      <td>7</td>\n",
       "      <td>15</td>\n",
       "    </tr>\n",
       "    <tr>\n",
       "      <th>3</th>\n",
       "      <td>Team</td>\n",
       "      <td>England</td>\n",
       "      <td>11</td>\n",
       "      <td>18</td>\n",
       "      <td>50.0%</td>\n",
       "      <td>17.2%</td>\n",
       "      <td>40</td>\n",
       "      <td>0</td>\n",
       "      <td>0</td>\n",
       "      <td>0</td>\n",
       "      <td>...</td>\n",
       "      <td>22</td>\n",
       "      <td>88.1%</td>\n",
       "      <td>43</td>\n",
       "      <td>45</td>\n",
       "      <td>6</td>\n",
       "      <td>5</td>\n",
       "      <td>0</td>\n",
       "      <td>11</td>\n",
       "      <td>11</td>\n",
       "      <td>16</td>\n",
       "    </tr>\n",
       "    <tr>\n",
       "      <th>4</th>\n",
       "      <td>Team</td>\n",
       "      <td>France</td>\n",
       "      <td>22</td>\n",
       "      <td>24</td>\n",
       "      <td>37.9%</td>\n",
       "      <td>6.5%</td>\n",
       "      <td>65</td>\n",
       "      <td>1</td>\n",
       "      <td>0</td>\n",
       "      <td>0</td>\n",
       "      <td>...</td>\n",
       "      <td>6</td>\n",
       "      <td>54.6%</td>\n",
       "      <td>36</td>\n",
       "      <td>51</td>\n",
       "      <td>5</td>\n",
       "      <td>6</td>\n",
       "      <td>0</td>\n",
       "      <td>11</td>\n",
       "      <td>11</td>\n",
       "      <td>19</td>\n",
       "    </tr>\n",
       "    <tr>\n",
       "      <th>5</th>\n",
       "      <td>Team</td>\n",
       "      <td>Germany</td>\n",
       "      <td>32</td>\n",
       "      <td>32</td>\n",
       "      <td>47.8%</td>\n",
       "      <td>15.6%</td>\n",
       "      <td>80</td>\n",
       "      <td>2</td>\n",
       "      <td>1</td>\n",
       "      <td>0</td>\n",
       "      <td>...</td>\n",
       "      <td>10</td>\n",
       "      <td>62.6%</td>\n",
       "      <td>63</td>\n",
       "      <td>49</td>\n",
       "      <td>12</td>\n",
       "      <td>4</td>\n",
       "      <td>0</td>\n",
       "      <td>15</td>\n",
       "      <td>15</td>\n",
       "      <td>17</td>\n",
       "    </tr>\n",
       "    <tr>\n",
       "      <th>6</th>\n",
       "      <td>Team</td>\n",
       "      <td>Greece</td>\n",
       "      <td>8</td>\n",
       "      <td>18</td>\n",
       "      <td>30.7%</td>\n",
       "      <td>19.2%</td>\n",
       "      <td>32</td>\n",
       "      <td>1</td>\n",
       "      <td>1</td>\n",
       "      <td>1</td>\n",
       "      <td>...</td>\n",
       "      <td>13</td>\n",
       "      <td>65.1%</td>\n",
       "      <td>67</td>\n",
       "      <td>48</td>\n",
       "      <td>12</td>\n",
       "      <td>9</td>\n",
       "      <td>1</td>\n",
       "      <td>12</td>\n",
       "      <td>12</td>\n",
       "      <td>20</td>\n",
       "    </tr>\n",
       "  </tbody>\n",
       "</table>\n",
       "<p>7 rows × 35 columns</p>\n",
       "</div>"
      ],
      "text/plain": [
       "   Team           Goals  Shots on target  Shots off target Shooting Accuracy   \n",
       "0  Team         Croatia               13                12             51.9%  \\\n",
       "1  Team  Czech Republic               13                18             41.9%   \n",
       "2  Team         Denmark               10                10             50.0%   \n",
       "3  Team         England               11                18             50.0%   \n",
       "4  Team          France               22                24             37.9%   \n",
       "5  Team         Germany               32                32             47.8%   \n",
       "6  Team          Greece                8                18             30.7%   \n",
       "\n",
       "  % Goals-to-shots  Total shots (inc. Blocked)  Hit Woodwork  Penalty goals   \n",
       "0            16.0%                          32             0              0  \\\n",
       "1            12.9%                          39             0              0   \n",
       "2            20.0%                          27             1              0   \n",
       "3            17.2%                          40             0              0   \n",
       "4             6.5%                          65             1              0   \n",
       "5            15.6%                          80             2              1   \n",
       "6            19.2%                          32             1              1   \n",
       "\n",
       "   Penalties not scored  ...  Saves made  Saves-to-shots ratio  Fouls Won   \n",
       "0                     0  ...          13                 81.3%         41  \\\n",
       "1                     0  ...           9                 60.1%         53   \n",
       "2                     0  ...          10                 66.7%         25   \n",
       "3                     0  ...          22                 88.1%         43   \n",
       "4                     0  ...           6                 54.6%         36   \n",
       "5                     0  ...          10                 62.6%         63   \n",
       "6                     1  ...          13                 65.1%         67   \n",
       "\n",
       "  Fouls Conceded  Offsides  Yellow Cards  Red Cards  Subs on  Subs off   \n",
       "0             62         2             9          0        9         9  \\\n",
       "1             73         8             7          0       11        11   \n",
       "2             38         8             4          0        7         7   \n",
       "3             45         6             5          0       11        11   \n",
       "4             51         5             6          0       11        11   \n",
       "5             49        12             4          0       15        15   \n",
       "6             48        12             9          1       12        12   \n",
       "\n",
       "   Players Used  \n",
       "0            16  \n",
       "1            19  \n",
       "2            15  \n",
       "3            16  \n",
       "4            19  \n",
       "5            17  \n",
       "6            20  \n",
       "\n",
       "[7 rows x 35 columns]"
      ]
     },
     "execution_count": 37,
     "metadata": {},
     "output_type": "execute_result"
    }
   ],
   "source": [
    "euro12.iloc[0:7]\n"
   ]
  },
  {
   "cell_type": "markdown",
   "id": "42c1d6bf",
   "metadata": {},
   "source": [
    "### Step 13"
   ]
  },
  {
   "cell_type": "code",
   "execution_count": 38,
   "id": "912ca116",
   "metadata": {},
   "outputs": [
    {
     "data": {
      "text/html": [
       "<div>\n",
       "<style scoped>\n",
       "    .dataframe tbody tr th:only-of-type {\n",
       "        vertical-align: middle;\n",
       "    }\n",
       "\n",
       "    .dataframe tbody tr th {\n",
       "        vertical-align: top;\n",
       "    }\n",
       "\n",
       "    .dataframe thead th {\n",
       "        text-align: right;\n",
       "    }\n",
       "</style>\n",
       "<table border=\"1\" class=\"dataframe\">\n",
       "  <thead>\n",
       "    <tr style=\"text-align: right;\">\n",
       "      <th></th>\n",
       "      <th>Team</th>\n",
       "      <th>Goals</th>\n",
       "      <th>Shots on target</th>\n",
       "      <th>Shots off target</th>\n",
       "      <th>Shooting Accuracy</th>\n",
       "      <th>% Goals-to-shots</th>\n",
       "      <th>Total shots (inc. Blocked)</th>\n",
       "      <th>Hit Woodwork</th>\n",
       "      <th>Penalty goals</th>\n",
       "      <th>Penalties not scored</th>\n",
       "      <th>...</th>\n",
       "      <th>Saves made</th>\n",
       "      <th>Saves-to-shots ratio</th>\n",
       "      <th>Fouls Won</th>\n",
       "      <th>Fouls Conceded</th>\n",
       "      <th>Offsides</th>\n",
       "      <th>Yellow Cards</th>\n",
       "      <th>Red Cards</th>\n",
       "      <th>Subs on</th>\n",
       "      <th>Subs off</th>\n",
       "      <th>Players Used</th>\n",
       "    </tr>\n",
       "  </thead>\n",
       "  <tbody>\n",
       "    <tr>\n",
       "      <th>0</th>\n",
       "      <td>Team</td>\n",
       "      <td>Croatia</td>\n",
       "      <td>13</td>\n",
       "      <td>12</td>\n",
       "      <td>51.9%</td>\n",
       "      <td>16.0%</td>\n",
       "      <td>32</td>\n",
       "      <td>0</td>\n",
       "      <td>0</td>\n",
       "      <td>0</td>\n",
       "      <td>...</td>\n",
       "      <td>13</td>\n",
       "      <td>81.3%</td>\n",
       "      <td>41</td>\n",
       "      <td>62</td>\n",
       "      <td>2</td>\n",
       "      <td>9</td>\n",
       "      <td>0</td>\n",
       "      <td>9</td>\n",
       "      <td>9</td>\n",
       "      <td>16</td>\n",
       "    </tr>\n",
       "    <tr>\n",
       "      <th>1</th>\n",
       "      <td>Team</td>\n",
       "      <td>Czech Republic</td>\n",
       "      <td>13</td>\n",
       "      <td>18</td>\n",
       "      <td>41.9%</td>\n",
       "      <td>12.9%</td>\n",
       "      <td>39</td>\n",
       "      <td>0</td>\n",
       "      <td>0</td>\n",
       "      <td>0</td>\n",
       "      <td>...</td>\n",
       "      <td>9</td>\n",
       "      <td>60.1%</td>\n",
       "      <td>53</td>\n",
       "      <td>73</td>\n",
       "      <td>8</td>\n",
       "      <td>7</td>\n",
       "      <td>0</td>\n",
       "      <td>11</td>\n",
       "      <td>11</td>\n",
       "      <td>19</td>\n",
       "    </tr>\n",
       "    <tr>\n",
       "      <th>2</th>\n",
       "      <td>Team</td>\n",
       "      <td>Denmark</td>\n",
       "      <td>10</td>\n",
       "      <td>10</td>\n",
       "      <td>50.0%</td>\n",
       "      <td>20.0%</td>\n",
       "      <td>27</td>\n",
       "      <td>1</td>\n",
       "      <td>0</td>\n",
       "      <td>0</td>\n",
       "      <td>...</td>\n",
       "      <td>10</td>\n",
       "      <td>66.7%</td>\n",
       "      <td>25</td>\n",
       "      <td>38</td>\n",
       "      <td>8</td>\n",
       "      <td>4</td>\n",
       "      <td>0</td>\n",
       "      <td>7</td>\n",
       "      <td>7</td>\n",
       "      <td>15</td>\n",
       "    </tr>\n",
       "    <tr>\n",
       "      <th>3</th>\n",
       "      <td>Team</td>\n",
       "      <td>England</td>\n",
       "      <td>11</td>\n",
       "      <td>18</td>\n",
       "      <td>50.0%</td>\n",
       "      <td>17.2%</td>\n",
       "      <td>40</td>\n",
       "      <td>0</td>\n",
       "      <td>0</td>\n",
       "      <td>0</td>\n",
       "      <td>...</td>\n",
       "      <td>22</td>\n",
       "      <td>88.1%</td>\n",
       "      <td>43</td>\n",
       "      <td>45</td>\n",
       "      <td>6</td>\n",
       "      <td>5</td>\n",
       "      <td>0</td>\n",
       "      <td>11</td>\n",
       "      <td>11</td>\n",
       "      <td>16</td>\n",
       "    </tr>\n",
       "    <tr>\n",
       "      <th>4</th>\n",
       "      <td>Team</td>\n",
       "      <td>France</td>\n",
       "      <td>22</td>\n",
       "      <td>24</td>\n",
       "      <td>37.9%</td>\n",
       "      <td>6.5%</td>\n",
       "      <td>65</td>\n",
       "      <td>1</td>\n",
       "      <td>0</td>\n",
       "      <td>0</td>\n",
       "      <td>...</td>\n",
       "      <td>6</td>\n",
       "      <td>54.6%</td>\n",
       "      <td>36</td>\n",
       "      <td>51</td>\n",
       "      <td>5</td>\n",
       "      <td>6</td>\n",
       "      <td>0</td>\n",
       "      <td>11</td>\n",
       "      <td>11</td>\n",
       "      <td>19</td>\n",
       "    </tr>\n",
       "    <tr>\n",
       "      <th>5</th>\n",
       "      <td>Team</td>\n",
       "      <td>Germany</td>\n",
       "      <td>32</td>\n",
       "      <td>32</td>\n",
       "      <td>47.8%</td>\n",
       "      <td>15.6%</td>\n",
       "      <td>80</td>\n",
       "      <td>2</td>\n",
       "      <td>1</td>\n",
       "      <td>0</td>\n",
       "      <td>...</td>\n",
       "      <td>10</td>\n",
       "      <td>62.6%</td>\n",
       "      <td>63</td>\n",
       "      <td>49</td>\n",
       "      <td>12</td>\n",
       "      <td>4</td>\n",
       "      <td>0</td>\n",
       "      <td>15</td>\n",
       "      <td>15</td>\n",
       "      <td>17</td>\n",
       "    </tr>\n",
       "    <tr>\n",
       "      <th>6</th>\n",
       "      <td>Team</td>\n",
       "      <td>Greece</td>\n",
       "      <td>8</td>\n",
       "      <td>18</td>\n",
       "      <td>30.7%</td>\n",
       "      <td>19.2%</td>\n",
       "      <td>32</td>\n",
       "      <td>1</td>\n",
       "      <td>1</td>\n",
       "      <td>1</td>\n",
       "      <td>...</td>\n",
       "      <td>13</td>\n",
       "      <td>65.1%</td>\n",
       "      <td>67</td>\n",
       "      <td>48</td>\n",
       "      <td>12</td>\n",
       "      <td>9</td>\n",
       "      <td>1</td>\n",
       "      <td>12</td>\n",
       "      <td>12</td>\n",
       "      <td>20</td>\n",
       "    </tr>\n",
       "    <tr>\n",
       "      <th>7</th>\n",
       "      <td>Team</td>\n",
       "      <td>Italy</td>\n",
       "      <td>34</td>\n",
       "      <td>45</td>\n",
       "      <td>43.0%</td>\n",
       "      <td>7.5%</td>\n",
       "      <td>110</td>\n",
       "      <td>2</td>\n",
       "      <td>0</td>\n",
       "      <td>0</td>\n",
       "      <td>...</td>\n",
       "      <td>20</td>\n",
       "      <td>74.1%</td>\n",
       "      <td>101</td>\n",
       "      <td>89</td>\n",
       "      <td>16</td>\n",
       "      <td>16</td>\n",
       "      <td>0</td>\n",
       "      <td>18</td>\n",
       "      <td>18</td>\n",
       "      <td>19</td>\n",
       "    </tr>\n",
       "    <tr>\n",
       "      <th>8</th>\n",
       "      <td>Team</td>\n",
       "      <td>Netherlands</td>\n",
       "      <td>12</td>\n",
       "      <td>36</td>\n",
       "      <td>25.0%</td>\n",
       "      <td>4.1%</td>\n",
       "      <td>60</td>\n",
       "      <td>2</td>\n",
       "      <td>0</td>\n",
       "      <td>0</td>\n",
       "      <td>...</td>\n",
       "      <td>12</td>\n",
       "      <td>70.6%</td>\n",
       "      <td>35</td>\n",
       "      <td>30</td>\n",
       "      <td>3</td>\n",
       "      <td>5</td>\n",
       "      <td>0</td>\n",
       "      <td>7</td>\n",
       "      <td>7</td>\n",
       "      <td>15</td>\n",
       "    </tr>\n",
       "    <tr>\n",
       "      <th>9</th>\n",
       "      <td>Team</td>\n",
       "      <td>Poland</td>\n",
       "      <td>15</td>\n",
       "      <td>23</td>\n",
       "      <td>39.4%</td>\n",
       "      <td>5.2%</td>\n",
       "      <td>48</td>\n",
       "      <td>0</td>\n",
       "      <td>0</td>\n",
       "      <td>0</td>\n",
       "      <td>...</td>\n",
       "      <td>6</td>\n",
       "      <td>66.7%</td>\n",
       "      <td>48</td>\n",
       "      <td>56</td>\n",
       "      <td>3</td>\n",
       "      <td>7</td>\n",
       "      <td>1</td>\n",
       "      <td>7</td>\n",
       "      <td>7</td>\n",
       "      <td>17</td>\n",
       "    </tr>\n",
       "    <tr>\n",
       "      <th>10</th>\n",
       "      <td>Team</td>\n",
       "      <td>Portugal</td>\n",
       "      <td>22</td>\n",
       "      <td>42</td>\n",
       "      <td>34.3%</td>\n",
       "      <td>9.3%</td>\n",
       "      <td>82</td>\n",
       "      <td>6</td>\n",
       "      <td>0</td>\n",
       "      <td>0</td>\n",
       "      <td>...</td>\n",
       "      <td>10</td>\n",
       "      <td>71.5%</td>\n",
       "      <td>73</td>\n",
       "      <td>90</td>\n",
       "      <td>10</td>\n",
       "      <td>12</td>\n",
       "      <td>0</td>\n",
       "      <td>14</td>\n",
       "      <td>14</td>\n",
       "      <td>16</td>\n",
       "    </tr>\n",
       "    <tr>\n",
       "      <th>11</th>\n",
       "      <td>Team</td>\n",
       "      <td>Republic of Ireland</td>\n",
       "      <td>7</td>\n",
       "      <td>12</td>\n",
       "      <td>36.8%</td>\n",
       "      <td>5.2%</td>\n",
       "      <td>28</td>\n",
       "      <td>0</td>\n",
       "      <td>0</td>\n",
       "      <td>0</td>\n",
       "      <td>...</td>\n",
       "      <td>17</td>\n",
       "      <td>65.4%</td>\n",
       "      <td>43</td>\n",
       "      <td>51</td>\n",
       "      <td>11</td>\n",
       "      <td>6</td>\n",
       "      <td>1</td>\n",
       "      <td>10</td>\n",
       "      <td>10</td>\n",
       "      <td>17</td>\n",
       "    </tr>\n",
       "    <tr>\n",
       "      <th>12</th>\n",
       "      <td>Team</td>\n",
       "      <td>Russia</td>\n",
       "      <td>9</td>\n",
       "      <td>31</td>\n",
       "      <td>22.5%</td>\n",
       "      <td>12.5%</td>\n",
       "      <td>59</td>\n",
       "      <td>2</td>\n",
       "      <td>0</td>\n",
       "      <td>0</td>\n",
       "      <td>...</td>\n",
       "      <td>10</td>\n",
       "      <td>77.0%</td>\n",
       "      <td>34</td>\n",
       "      <td>43</td>\n",
       "      <td>4</td>\n",
       "      <td>6</td>\n",
       "      <td>0</td>\n",
       "      <td>7</td>\n",
       "      <td>7</td>\n",
       "      <td>16</td>\n",
       "    </tr>\n",
       "  </tbody>\n",
       "</table>\n",
       "<p>13 rows × 35 columns</p>\n",
       "</div>"
      ],
      "text/plain": [
       "    Team                Goals  Shots on target  Shots off target   \n",
       "0   Team              Croatia               13                12  \\\n",
       "1   Team       Czech Republic               13                18   \n",
       "2   Team              Denmark               10                10   \n",
       "3   Team              England               11                18   \n",
       "4   Team               France               22                24   \n",
       "5   Team              Germany               32                32   \n",
       "6   Team               Greece                8                18   \n",
       "7   Team                Italy               34                45   \n",
       "8   Team          Netherlands               12                36   \n",
       "9   Team               Poland               15                23   \n",
       "10  Team             Portugal               22                42   \n",
       "11  Team  Republic of Ireland                7                12   \n",
       "12  Team               Russia                9                31   \n",
       "\n",
       "   Shooting Accuracy % Goals-to-shots  Total shots (inc. Blocked)   \n",
       "0              51.9%            16.0%                          32  \\\n",
       "1              41.9%            12.9%                          39   \n",
       "2              50.0%            20.0%                          27   \n",
       "3              50.0%            17.2%                          40   \n",
       "4              37.9%             6.5%                          65   \n",
       "5              47.8%            15.6%                          80   \n",
       "6              30.7%            19.2%                          32   \n",
       "7              43.0%             7.5%                         110   \n",
       "8              25.0%             4.1%                          60   \n",
       "9              39.4%             5.2%                          48   \n",
       "10             34.3%             9.3%                          82   \n",
       "11             36.8%             5.2%                          28   \n",
       "12             22.5%            12.5%                          59   \n",
       "\n",
       "    Hit Woodwork  Penalty goals  Penalties not scored  ...  Saves made   \n",
       "0              0              0                     0  ...          13  \\\n",
       "1              0              0                     0  ...           9   \n",
       "2              1              0                     0  ...          10   \n",
       "3              0              0                     0  ...          22   \n",
       "4              1              0                     0  ...           6   \n",
       "5              2              1                     0  ...          10   \n",
       "6              1              1                     1  ...          13   \n",
       "7              2              0                     0  ...          20   \n",
       "8              2              0                     0  ...          12   \n",
       "9              0              0                     0  ...           6   \n",
       "10             6              0                     0  ...          10   \n",
       "11             0              0                     0  ...          17   \n",
       "12             2              0                     0  ...          10   \n",
       "\n",
       "    Saves-to-shots ratio  Fouls Won Fouls Conceded  Offsides  Yellow Cards   \n",
       "0                  81.3%         41             62         2             9  \\\n",
       "1                  60.1%         53             73         8             7   \n",
       "2                  66.7%         25             38         8             4   \n",
       "3                  88.1%         43             45         6             5   \n",
       "4                  54.6%         36             51         5             6   \n",
       "5                  62.6%         63             49        12             4   \n",
       "6                  65.1%         67             48        12             9   \n",
       "7                  74.1%        101             89        16            16   \n",
       "8                  70.6%         35             30         3             5   \n",
       "9                  66.7%         48             56         3             7   \n",
       "10                 71.5%         73             90        10            12   \n",
       "11                 65.4%         43             51        11             6   \n",
       "12                 77.0%         34             43         4             6   \n",
       "\n",
       "    Red Cards  Subs on  Subs off  Players Used  \n",
       "0           0        9         9            16  \n",
       "1           0       11        11            19  \n",
       "2           0        7         7            15  \n",
       "3           0       11        11            16  \n",
       "4           0       11        11            19  \n",
       "5           0       15        15            17  \n",
       "6           1       12        12            20  \n",
       "7           0       18        18            19  \n",
       "8           0        7         7            15  \n",
       "9           1        7         7            17  \n",
       "10          0       14        14            16  \n",
       "11          1       10        10            17  \n",
       "12          0        7         7            16  \n",
       "\n",
       "[13 rows x 35 columns]"
      ]
     },
     "execution_count": 38,
     "metadata": {},
     "output_type": "execute_result"
    }
   ],
   "source": [
    "euro12.iloc[ :-3]\n"
   ]
  },
  {
   "cell_type": "code",
   "execution_count": 39,
   "id": "2f84493f",
   "metadata": {},
   "outputs": [
    {
     "data": {
      "text/html": [
       "<div>\n",
       "<style scoped>\n",
       "    .dataframe tbody tr th:only-of-type {\n",
       "        vertical-align: middle;\n",
       "    }\n",
       "\n",
       "    .dataframe tbody tr th {\n",
       "        vertical-align: top;\n",
       "    }\n",
       "\n",
       "    .dataframe thead th {\n",
       "        text-align: right;\n",
       "    }\n",
       "</style>\n",
       "<table border=\"1\" class=\"dataframe\">\n",
       "  <thead>\n",
       "    <tr style=\"text-align: right;\">\n",
       "      <th></th>\n",
       "      <th>Team</th>\n",
       "      <th>Shooting Accuracy</th>\n",
       "    </tr>\n",
       "  </thead>\n",
       "  <tbody>\n",
       "  </tbody>\n",
       "</table>\n",
       "</div>"
      ],
      "text/plain": [
       "Empty DataFrame\n",
       "Columns: [Team, Shooting Accuracy]\n",
       "Index: []"
      ]
     },
     "execution_count": 39,
     "metadata": {},
     "output_type": "execute_result"
    }
   ],
   "source": [
    "euro12.loc[euro12.Team.isin(['England','Italy','Russia']),['Team','Shooting Accuracy']]"
   ]
  },
  {
   "cell_type": "markdown",
   "id": "973dd482",
   "metadata": {},
   "source": [
    "### Question 3"
   ]
  },
  {
   "cell_type": "markdown",
   "id": "21064da2",
   "metadata": {},
   "source": [
    "### Step1"
   ]
  },
  {
   "cell_type": "code",
   "execution_count": 41,
   "id": "31609354",
   "metadata": {},
   "outputs": [],
   "source": [
    "import numpy as np \n",
    "import pandas as pd\n",
    "import random\n",
    "import string"
   ]
  },
  {
   "cell_type": "markdown",
   "id": "57c8d2df",
   "metadata": {},
   "source": [
    "### Step 2"
   ]
  },
  {
   "cell_type": "code",
   "execution_count": 42,
   "id": "c3f21d9e",
   "metadata": {},
   "outputs": [],
   "source": [
    "var1 = pd.Series(np.random.randint(1,4,100))"
   ]
  },
  {
   "cell_type": "code",
   "execution_count": 43,
   "id": "624f253b",
   "metadata": {},
   "outputs": [],
   "source": [
    "var2 = pd.Series(np.random.randint(1,3,100))"
   ]
  },
  {
   "cell_type": "code",
   "execution_count": 44,
   "id": "0f604f40",
   "metadata": {},
   "outputs": [],
   "source": [
    "var3 = pd.Series(np.random.randint(10000,30000,100))"
   ]
  },
  {
   "cell_type": "markdown",
   "id": "256e5534",
   "metadata": {},
   "source": [
    "### Step 3"
   ]
  },
  {
   "cell_type": "code",
   "execution_count": 45,
   "id": "b0b3c3ac",
   "metadata": {},
   "outputs": [
    {
     "name": "stdout",
     "output_type": "stream",
     "text": [
      "    0  1      2\n",
      "0   1  2  14385\n",
      "1   2  1  22421\n",
      "2   2  2  20400\n",
      "3   1  1  18606\n",
      "4   1  1  10359\n",
      ".. .. ..    ...\n",
      "95  3  2  24083\n",
      "96  1  1  18913\n",
      "97  2  1  21634\n",
      "98  3  1  26492\n",
      "99  2  2  21577\n",
      "\n",
      "[100 rows x 3 columns]\n"
     ]
    }
   ],
   "source": [
    "DF = pd.concat([var1,var2,var3],axis=1)\n",
    "print(DF)"
   ]
  },
  {
   "cell_type": "markdown",
   "id": "f56296dd",
   "metadata": {},
   "source": [
    "### Step 4"
   ]
  },
  {
   "cell_type": "code",
   "execution_count": 46,
   "id": "240bd351",
   "metadata": {},
   "outputs": [
    {
     "name": "stdout",
     "output_type": "stream",
     "text": [
      "Index(['bedrs', 'bathrs', 'price_sqr_meter'], dtype='object')\n"
     ]
    }
   ],
   "source": [
    "DF.columns=['bedrs','bathrs','price_sqr_meter']\n",
    "print(DF.columns)"
   ]
  },
  {
   "cell_type": "markdown",
   "id": "ea8289dc",
   "metadata": {},
   "source": [
    "### Step 5"
   ]
  },
  {
   "cell_type": "code",
   "execution_count": 47,
   "id": "088c16e6",
   "metadata": {},
   "outputs": [
    {
     "name": "stdout",
     "output_type": "stream",
     "text": [
      "0         1\n",
      "1         2\n",
      "2         2\n",
      "3         1\n",
      "4         1\n",
      "      ...  \n",
      "95    24083\n",
      "96    18913\n",
      "97    21634\n",
      "98    26492\n",
      "99    21577\n",
      "Length: 300, dtype: int32\n"
     ]
    }
   ],
   "source": [
    "bigcolumn = pd.concat([var1,var2,var3],axis=0)\n",
    "print(bigcolumn)"
   ]
  },
  {
   "cell_type": "markdown",
   "id": "73cbb6ef",
   "metadata": {},
   "source": [
    "### Step 6"
   ]
  },
  {
   "cell_type": "markdown",
   "id": "c52f7432",
   "metadata": {},
   "source": [
    "#### Yes, It is going till index 99 only"
   ]
  },
  {
   "cell_type": "markdown",
   "id": "fcf3bc01",
   "metadata": {},
   "source": [
    "### Step 7"
   ]
  },
  {
   "cell_type": "code",
   "execution_count": 48,
   "id": "59fb7b5b",
   "metadata": {},
   "outputs": [
    {
     "name": "stdout",
     "output_type": "stream",
     "text": [
      "0          1\n",
      "1          2\n",
      "2          2\n",
      "3          1\n",
      "4          1\n",
      "       ...  \n",
      "295    24083\n",
      "296    18913\n",
      "297    21634\n",
      "298    26492\n",
      "299    21577\n",
      "Length: 300, dtype: int32\n"
     ]
    }
   ],
   "source": [
    "bigcolumn.reset_index(drop=True, inplace=True)\n",
    "print(bigcolumn)"
   ]
  },
  {
   "cell_type": "markdown",
   "id": "6df20f4f",
   "metadata": {},
   "source": [
    "### Question 4 - Wind Statistics"
   ]
  },
  {
   "cell_type": "markdown",
   "id": "ee0a3ab1",
   "metadata": {},
   "source": [
    "### Step 1"
   ]
  },
  {
   "cell_type": "code",
   "execution_count": 36,
   "id": "3c10b6f8",
   "metadata": {},
   "outputs": [],
   "source": [
    "import numpy as np \n",
    "import pandas as pd"
   ]
  },
  {
   "cell_type": "markdown",
   "id": "5992290e",
   "metadata": {},
   "source": [
    "### step 2"
   ]
  },
  {
   "cell_type": "code",
   "execution_count": 31,
   "id": "cf91b24d",
   "metadata": {},
   "outputs": [],
   "source": [
    "data = pd.read_csv('wind.txt', sep='\\s+')"
   ]
  },
  {
   "cell_type": "markdown",
   "id": "11f1e01e",
   "metadata": {},
   "source": [
    "### Step 3"
   ]
  },
  {
   "cell_type": "code",
   "execution_count": 25,
   "id": "62366fe4",
   "metadata": {},
   "outputs": [
    {
     "data": {
      "text/plain": [
       "Index(['Yr', 'Mo', 'Dy', 'RPT', 'VAL', 'ROS', 'KIL', 'SHA', 'BIR', 'DUB',\n",
       "       'CLA', 'MUL', 'CLO', 'BEL', 'MAL'],\n",
       "      dtype='object')"
      ]
     },
     "execution_count": 25,
     "metadata": {},
     "output_type": "execute_result"
    }
   ],
   "source": [
    "data.columns"
   ]
  },
  {
   "cell_type": "code",
   "execution_count": 58,
   "id": "a610a801",
   "metadata": {},
   "outputs": [],
   "source": [
    "data = pd.read_csv('wind.txt', sep='\\s+', names=['Yr', 'Mo', 'Dy', 'RPT', 'VAL', 'ROS', 'KIL', 'SHA', 'BIR', 'DUB', 'CLA', 'MUL', 'CLO','BEL','MAL'])\n"
   ]
  },
  {
   "cell_type": "code",
   "execution_count": 34,
   "id": "6d0ce762",
   "metadata": {},
   "outputs": [
    {
     "data": {
      "text/plain": [
       "0      2061-01-01\n",
       "1      2061-01-02\n",
       "2      2061-01-03\n",
       "3      2061-01-04\n",
       "4      2061-01-05\n",
       "          ...    \n",
       "6569   2078-12-27\n",
       "6570   2078-12-28\n",
       "6571   2078-12-29\n",
       "6572   2078-12-30\n",
       "6573   2078-12-31\n",
       "Name: Date, Length: 6574, dtype: datetime64[ns]"
      ]
     },
     "execution_count": 34,
     "metadata": {},
     "output_type": "execute_result"
    }
   ],
   "source": [
    "data['Date'] = '20' + data['Yr'].astype(str) + '-' + data['Mo'].astype(str) + '-' + data['Dy'].astype(str)\n",
    "\n",
    "data['Date'] = pd.to_datetime(data['Date'], format='%Y-%m-%d')\n",
    "\n",
    "data.Date"
   ]
  },
  {
   "cell_type": "code",
   "execution_count": 28,
   "id": "ca2d6480",
   "metadata": {},
   "outputs": [],
   "source": [
    "data = data.drop(columns=[\"Yr\",\"Mo\",\"Dy\"])"
   ]
  },
  {
   "cell_type": "markdown",
   "id": "aa69fe90",
   "metadata": {},
   "source": [
    "### Step 4"
   ]
  },
  {
   "cell_type": "code",
   "execution_count": 37,
   "id": "17751d97",
   "metadata": {},
   "outputs": [],
   "source": [
    "data[\"Date\"] = np.where(pd.DatetimeIndex(data[\"Date\"]).year < 2023,data.Date,data.Date - pd.offsets.DateOffset(years=100))"
   ]
  },
  {
   "cell_type": "markdown",
   "id": "302f8c5d",
   "metadata": {},
   "source": [
    "### Step 5"
   ]
  },
  {
   "cell_type": "code",
   "execution_count": 38,
   "id": "fda399b8",
   "metadata": {},
   "outputs": [
    {
     "data": {
      "text/plain": [
       "DatetimeIndex(['1961-01-01', '1961-01-02', '1961-01-03', '1961-01-04',\n",
       "               '1961-01-05', '1961-01-06', '1961-01-07', '1961-01-08',\n",
       "               '1961-01-09', '1961-01-10',\n",
       "               ...\n",
       "               '1978-12-22', '1978-12-23', '1978-12-24', '1978-12-25',\n",
       "               '1978-12-26', '1978-12-27', '1978-12-28', '1978-12-29',\n",
       "               '1978-12-30', '1978-12-31'],\n",
       "              dtype='datetime64[ns]', name='Date', length=6574, freq=None)"
      ]
     },
     "execution_count": 38,
     "metadata": {},
     "output_type": "execute_result"
    }
   ],
   "source": [
    "newData = data.set_index(\"Date\")\n",
    "newData.index.astype(\"datetime64[ns]\")"
   ]
  },
  {
   "cell_type": "markdown",
   "id": "16d4cebc",
   "metadata": {},
   "source": [
    "### Step 6"
   ]
  },
  {
   "cell_type": "code",
   "execution_count": 40,
   "id": "6f757c62",
   "metadata": {},
   "outputs": [
    {
     "name": "stdout",
     "output_type": "stream",
     "text": [
      "31\n"
     ]
    }
   ],
   "source": [
    "print(data.isnull().values.sum())"
   ]
  },
  {
   "cell_type": "markdown",
   "id": "987767c2",
   "metadata": {},
   "source": [
    "### Step 7"
   ]
  },
  {
   "cell_type": "code",
   "execution_count": 42,
   "id": "08e4c65e",
   "metadata": {},
   "outputs": [
    {
     "name": "stdout",
     "output_type": "stream",
     "text": [
      "Total Non-missing values  : 105153\n"
     ]
    }
   ],
   "source": [
    "print(\"Total Non-missing values  :\",sum(data.count()))"
   ]
  },
  {
   "cell_type": "markdown",
   "id": "a53277d2",
   "metadata": {},
   "source": [
    "### Step 8"
   ]
  },
  {
   "cell_type": "code",
   "execution_count": 46,
   "id": "4bbc0cbf",
   "metadata": {},
   "outputs": [
    {
     "data": {
      "text/plain": [
       "Yr                69.500304\n",
       "Mo                 6.523274\n",
       "Dy                15.728628\n",
       "RPT               12.362987\n",
       "VAL               10.644314\n",
       "ROS               11.660526\n",
       "KIL                6.306468\n",
       "SHA               10.455834\n",
       "BIR                7.092254\n",
       "DUB                9.797343\n",
       "CLA                8.495053\n",
       "MUL                 8.49359\n",
       "CLO                8.707332\n",
       "BEL               13.121007\n",
       "MAL               15.599079\n",
       "Date    1969-12-31 12:00:00\n",
       "dtype: object"
      ]
     },
     "execution_count": 46,
     "metadata": {},
     "output_type": "execute_result"
    }
   ],
   "source": [
    "data.mean()"
   ]
  },
  {
   "cell_type": "markdown",
   "id": "5ffc64b5",
   "metadata": {},
   "source": [
    "### Step 9"
   ]
  },
  {
   "cell_type": "code",
   "execution_count": 49,
   "id": "7e519510",
   "metadata": {},
   "outputs": [],
   "source": [
    "Min=data.min()\n",
    "Max=data.max()\n",
    "Mean=data.mean()\n",
    "Std=data.std()\n"
   ]
  },
  {
   "cell_type": "code",
   "execution_count": 50,
   "id": "11ecd947",
   "metadata": {},
   "outputs": [
    {
     "data": {
      "text/html": [
       "<div>\n",
       "<style scoped>\n",
       "    .dataframe tbody tr th:only-of-type {\n",
       "        vertical-align: middle;\n",
       "    }\n",
       "\n",
       "    .dataframe tbody tr th {\n",
       "        vertical-align: top;\n",
       "    }\n",
       "\n",
       "    .dataframe thead th {\n",
       "        text-align: right;\n",
       "    }\n",
       "</style>\n",
       "<table border=\"1\" class=\"dataframe\">\n",
       "  <thead>\n",
       "    <tr style=\"text-align: right;\">\n",
       "      <th></th>\n",
       "      <th>Yr</th>\n",
       "      <th>Mo</th>\n",
       "      <th>Dy</th>\n",
       "      <th>RPT</th>\n",
       "      <th>VAL</th>\n",
       "      <th>ROS</th>\n",
       "      <th>KIL</th>\n",
       "      <th>SHA</th>\n",
       "      <th>BIR</th>\n",
       "      <th>DUB</th>\n",
       "      <th>CLA</th>\n",
       "      <th>MUL</th>\n",
       "      <th>CLO</th>\n",
       "      <th>BEL</th>\n",
       "      <th>MAL</th>\n",
       "      <th>Date</th>\n",
       "    </tr>\n",
       "  </thead>\n",
       "  <tbody>\n",
       "    <tr>\n",
       "      <th>Min</th>\n",
       "      <td>61.000000</td>\n",
       "      <td>1.000000</td>\n",
       "      <td>1.000000</td>\n",
       "      <td>0.670000</td>\n",
       "      <td>0.210000</td>\n",
       "      <td>1.500000</td>\n",
       "      <td>0.000000</td>\n",
       "      <td>0.130000</td>\n",
       "      <td>0.000000</td>\n",
       "      <td>0.000000</td>\n",
       "      <td>0.000000</td>\n",
       "      <td>0.000000</td>\n",
       "      <td>0.040000</td>\n",
       "      <td>0.130000</td>\n",
       "      <td>0.670000</td>\n",
       "      <td>1961-01-01 00:00:00</td>\n",
       "    </tr>\n",
       "    <tr>\n",
       "      <th>Max</th>\n",
       "      <td>78.000000</td>\n",
       "      <td>12.000000</td>\n",
       "      <td>31.000000</td>\n",
       "      <td>35.800000</td>\n",
       "      <td>33.370000</td>\n",
       "      <td>33.840000</td>\n",
       "      <td>28.460000</td>\n",
       "      <td>37.540000</td>\n",
       "      <td>26.160000</td>\n",
       "      <td>30.370000</td>\n",
       "      <td>31.080000</td>\n",
       "      <td>25.880000</td>\n",
       "      <td>28.210000</td>\n",
       "      <td>42.380000</td>\n",
       "      <td>42.540000</td>\n",
       "      <td>1978-12-31 00:00:00</td>\n",
       "    </tr>\n",
       "    <tr>\n",
       "      <th>Mean</th>\n",
       "      <td>69.500304</td>\n",
       "      <td>6.523274</td>\n",
       "      <td>15.728628</td>\n",
       "      <td>12.362987</td>\n",
       "      <td>10.644314</td>\n",
       "      <td>11.660526</td>\n",
       "      <td>6.306468</td>\n",
       "      <td>10.455834</td>\n",
       "      <td>7.092254</td>\n",
       "      <td>9.797343</td>\n",
       "      <td>8.495053</td>\n",
       "      <td>8.493590</td>\n",
       "      <td>8.707332</td>\n",
       "      <td>13.121007</td>\n",
       "      <td>15.599079</td>\n",
       "      <td>1969-12-31 12:00:00</td>\n",
       "    </tr>\n",
       "    <tr>\n",
       "      <th>Std</th>\n",
       "      <td>5.188131</td>\n",
       "      <td>3.448871</td>\n",
       "      <td>8.800335</td>\n",
       "      <td>5.618413</td>\n",
       "      <td>5.267356</td>\n",
       "      <td>5.008450</td>\n",
       "      <td>3.605811</td>\n",
       "      <td>4.936125</td>\n",
       "      <td>3.968683</td>\n",
       "      <td>4.977555</td>\n",
       "      <td>4.499449</td>\n",
       "      <td>4.166872</td>\n",
       "      <td>4.503954</td>\n",
       "      <td>5.835037</td>\n",
       "      <td>6.699794</td>\n",
       "      <td>1897 days 21:28:19.220597120</td>\n",
       "    </tr>\n",
       "  </tbody>\n",
       "</table>\n",
       "</div>"
      ],
      "text/plain": [
       "             Yr         Mo         Dy        RPT        VAL        ROS   \n",
       "Min   61.000000   1.000000   1.000000   0.670000   0.210000   1.500000  \\\n",
       "Max   78.000000  12.000000  31.000000  35.800000  33.370000  33.840000   \n",
       "Mean  69.500304   6.523274  15.728628  12.362987  10.644314  11.660526   \n",
       "Std    5.188131   3.448871   8.800335   5.618413   5.267356   5.008450   \n",
       "\n",
       "            KIL        SHA        BIR        DUB        CLA        MUL   \n",
       "Min    0.000000   0.130000   0.000000   0.000000   0.000000   0.000000  \\\n",
       "Max   28.460000  37.540000  26.160000  30.370000  31.080000  25.880000   \n",
       "Mean   6.306468  10.455834   7.092254   9.797343   8.495053   8.493590   \n",
       "Std    3.605811   4.936125   3.968683   4.977555   4.499449   4.166872   \n",
       "\n",
       "            CLO        BEL        MAL                          Date  \n",
       "Min    0.040000   0.130000   0.670000           1961-01-01 00:00:00  \n",
       "Max   28.210000  42.380000  42.540000           1978-12-31 00:00:00  \n",
       "Mean   8.707332  13.121007  15.599079           1969-12-31 12:00:00  \n",
       "Std    4.503954   5.835037   6.699794  1897 days 21:28:19.220597120  "
      ]
     },
     "execution_count": 50,
     "metadata": {},
     "output_type": "execute_result"
    }
   ],
   "source": [
    "var=[Min,Max,Mean,Std]\n",
    "ind=[\"Min\",\"Max\",\"Mean\",\"Std\"]\n",
    "loc_stats= pd.DataFrame(var,ind)\n",
    "loc_stats"
   ]
  },
  {
   "cell_type": "markdown",
   "id": "fa1940b7",
   "metadata": {},
   "source": [
    "### Step 10"
   ]
  },
  {
   "cell_type": "code",
   "execution_count": null,
   "id": "59651c5f",
   "metadata": {},
   "outputs": [],
   "source": [
    "day_stats = pd.DataFrame()\n",
    "for index, row in data.iterrows():\n",
    "    ws = row[['RPT', 'VAL', 'ROS', 'KIL', 'SHA', 'BIR', 'DUB',\n",
    "       'CLA', 'MUL', 'CLO', 'BEL', 'MAL']]\n",
    "    day_stats.at[data.Date, 'Min'] = ws.min()\n",
    "    day_stats.at[data.Date, 'Max'] = ws.max()\n",
    "    day_stats.at[data.Date, 'Mean'] = ws.mean()\n",
    "    day_stats.at[data.Date, 'Std'] = ws.std()\n"
   ]
  },
  {
   "cell_type": "markdown",
   "id": "b659a08a",
   "metadata": {},
   "source": [
    "### step 11"
   ]
  },
  {
   "cell_type": "code",
   "execution_count": 52,
   "id": "f1a85ebd",
   "metadata": {},
   "outputs": [
    {
     "name": "stdout",
     "output_type": "stream",
     "text": [
      "Windspeeds of January:\n",
      "Yr     69.500000\n",
      "Mo      1.000000\n",
      "Dy     16.000000\n",
      "RPT    14.847325\n",
      "VAL    12.914560\n",
      "ROS    13.299624\n",
      "KIL     7.199498\n",
      "SHA    11.667734\n",
      "BIR     8.054839\n",
      "DUB    11.819355\n",
      "CLA     9.512047\n",
      "MUL     9.543208\n",
      "CLO    10.053566\n",
      "BEL    14.550520\n",
      "MAL    18.028763\n",
      "dtype: float64\n"
     ]
    }
   ],
   "source": [
    "jan_data = newData[newData.index.month == 1]\n",
    "print (\"Windspeeds of January:\")\n",
    "print (jan_data.mean())"
   ]
  },
  {
   "cell_type": "markdown",
   "id": "e3bd431a",
   "metadata": {},
   "source": [
    "### Step 12"
   ]
  },
  {
   "cell_type": "code",
   "execution_count": 55,
   "id": "f9485f47",
   "metadata": {},
   "outputs": [
    {
     "name": "stdout",
     "output_type": "stream",
     "text": [
      "Downsample Data to Yearly Frequency:\n",
      "               Yr        Mo         Dy        RPT        VAL        ROS   \n",
      "Date                                                                     \n",
      "1961-12-31  61.0  6.526027  15.720548  12.299583  10.351796  11.362369  \\\n",
      "1962-12-31  62.0  6.526027  15.720548  12.246923  10.110438  11.732712   \n",
      "1963-12-31  63.0  6.526027  15.720548  12.813452  10.836986  12.541151   \n",
      "1964-12-31  64.0  6.513661  15.756831  12.363661  10.920164  12.104372   \n",
      "1965-12-31  65.0  6.526027  15.720548  12.451370  11.075534  11.848767   \n",
      "1966-12-31  66.0  6.526027  15.720548  13.461973  11.557205  12.020630   \n",
      "1967-12-31  67.0  6.526027  15.720548  12.737151  10.990986  11.739397   \n",
      "1968-12-31  68.0  6.513661  15.756831  11.835628  10.468197  11.409754   \n",
      "1969-12-31  69.0  6.526027  15.720548  11.166356   9.723699  10.902000   \n",
      "1970-12-31  70.0  6.526027  15.720548  12.600329  10.726932  11.730247   \n",
      "1971-12-31  71.0  6.526027  15.720548  11.273123   9.095178  11.088329   \n",
      "1972-12-31  72.0  6.513661  15.756831  12.463962  10.561311  12.058333   \n",
      "1973-12-31  73.0  6.526027  15.720548  11.828466  10.680493  10.680493   \n",
      "1974-12-31  74.0  6.526027  15.720548  13.643096  11.811781  12.336356   \n",
      "1975-12-31  75.0  6.526027  15.720548  12.008575  10.293836  11.564712   \n",
      "1976-12-31  76.0  6.513661  15.756831  11.737842  10.203115  10.761230   \n",
      "1977-12-31  77.0  6.526027  15.720548  13.099616  11.144493  12.627836   \n",
      "1978-12-31  78.0  6.526027  15.720548  12.504356  11.044274  11.380000   \n",
      "\n",
      "                 KIL        SHA       BIR        DUB        CLA       MUL   \n",
      "Date                                                                        \n",
      "1961-12-31  6.958227  10.881763  7.729726   9.733923   8.858788  8.647652  \\\n",
      "1962-12-31  6.960440  10.657918  7.393068  11.020712   8.793753  8.316822   \n",
      "1963-12-31  7.330055  11.724110  8.434712  11.075699  10.336548  8.903589   \n",
      "1964-12-31  6.787787  11.454481  7.570874  10.259153   9.467350  7.789016   \n",
      "1965-12-31  6.858466  11.024795  7.478110  10.618712   8.879918  7.907425   \n",
      "1966-12-31  7.345726  11.805041  7.793671  10.579808   8.835096  8.514438   \n",
      "1967-12-31  7.143425  11.630740  7.368164  10.652027   9.325616  8.645014   \n",
      "1968-12-31  6.477678  10.760765  6.067322   8.859180   8.255519  7.224945   \n",
      "1969-12-31  5.767973   9.873918  6.189973   8.564493   7.711397  7.924521   \n",
      "1970-12-31  6.217178  10.567370  7.609452   9.609890   8.334630  9.297616   \n",
      "1971-12-31  5.241507   9.440329  6.097151   8.385890   6.757315  7.915370   \n",
      "1972-12-31  5.929699   9.430410  6.358825   9.704508   7.680792  8.357295   \n",
      "1973-12-31  5.547863   9.640877  6.548740   8.482110   7.614274  8.245534   \n",
      "1974-12-31  6.427041  11.110986  6.809781  10.084603   9.896986  9.331753   \n",
      "1975-12-31  5.269096   9.190082  5.668521   8.562603   7.843836  8.797945   \n",
      "1976-12-31  5.109426   8.846339  6.311038   9.149126   7.146202  8.883716   \n",
      "1977-12-31  6.073945  10.003836  8.586438  11.523205   8.378384  9.098192   \n",
      "1978-12-31  6.082356  10.167233  7.650658   9.489342   8.800466  9.089753   \n",
      "\n",
      "                  CLO        BEL        MAL  \n",
      "Date                                         \n",
      "1961-12-31   9.835577  13.502795  13.680773  \n",
      "1962-12-31   9.676247  12.930685  14.323956  \n",
      "1963-12-31  10.224438  13.638877  14.999014  \n",
      "1964-12-31  10.207951  13.740546  14.910301  \n",
      "1965-12-31   9.918082  12.964247  15.591644  \n",
      "1966-12-31   9.768959  14.265836  16.307260  \n",
      "1967-12-31   9.547425  14.774548  17.135945  \n",
      "1968-12-31   7.832978  12.808634  15.017486  \n",
      "1969-12-31   7.754384  12.621233  15.762904  \n",
      "1970-12-31   8.289808  13.183644  16.456027  \n",
      "1971-12-31   7.229753  12.208932  15.025233  \n",
      "1972-12-31   7.515273  12.727377  15.028716  \n",
      "1973-12-31   7.812411  12.169699  15.441096  \n",
      "1974-12-31   8.736356  13.252959  16.947671  \n",
      "1975-12-31   7.382822  12.631671  15.307863  \n",
      "1976-12-31   7.883087  12.332377  15.471448  \n",
      "1977-12-31   8.821616  13.459068  16.590849  \n",
      "1978-12-31   8.301699  12.967397  16.771370  \n"
     ]
    }
   ],
   "source": [
    "print( \"Downsample Data to Yearly Frequency:\\n\", newData.resample('Y').mean())"
   ]
  },
  {
   "cell_type": "markdown",
   "id": "19921a29",
   "metadata": {},
   "source": [
    "### Step 13"
   ]
  },
  {
   "cell_type": "code",
   "execution_count": 57,
   "id": "88abe35b",
   "metadata": {},
   "outputs": [
    {
     "name": "stdout",
     "output_type": "stream",
     "text": [
      "Downsample Data to Monthly Frequency:\n",
      "               Yr    Mo    Dy        RPT        VAL        ROS       KIL   \n",
      "Date                                                                      \n",
      "1961-01-31  61.0   1.0  16.0  14.841333  11.988333  13.431613  7.736774  \\\n",
      "1961-02-28  61.0   2.0  14.5  16.269286  14.975357  14.441481  9.230741   \n",
      "1961-03-31  61.0   3.0  16.0  10.890000  11.296452  10.752903  7.284000   \n",
      "1961-04-30  61.0   4.0  15.5  10.722667   9.427667   9.998000  5.830667   \n",
      "1961-05-31  61.0   5.0  16.0   9.860968   8.850000  10.818065  5.905333   \n",
      "...          ...   ...   ...        ...        ...        ...       ...   \n",
      "1978-08-31  78.0   8.0  16.0   9.645161   8.259355   9.032258  4.502903   \n",
      "1978-09-30  78.0   9.0  15.5  10.913667  10.895000  10.635000  5.725000   \n",
      "1978-10-31  78.0  10.0  16.0   9.897742   8.670968   9.295806  4.721290   \n",
      "1978-11-30  78.0  11.0  15.5  16.151667  14.802667  13.508000  7.317333   \n",
      "1978-12-31  78.0  12.0  16.0  16.175484  13.748065  15.635161  7.094839   \n",
      "\n",
      "                  SHA        BIR        DUB        CLA        MUL        CLO   \n",
      "Date                                                                           \n",
      "1961-01-31  11.072759   8.588065  11.184839   9.245333   9.085806  10.107419  \\\n",
      "1961-02-28  13.852143  10.937500  11.890714  11.846071  11.821429  12.714286   \n",
      "1961-03-31  10.509355   8.866774   9.644194   9.829677  10.294138  11.251935   \n",
      "1961-04-30   8.435000   6.495000   6.925333   7.094667   7.342333   7.237000   \n",
      "1961-05-31   9.490323   6.574839   7.604000   8.177097   8.039355   8.499355   \n",
      "...               ...        ...        ...        ...        ...        ...   \n",
      "1978-08-31   7.368065   5.935161   5.650323   5.417742   7.241290   5.536774   \n",
      "1978-09-30  10.372000   9.278333  10.790333   9.583000  10.069333   8.939000   \n",
      "1978-10-31   8.525161   6.774194   8.115484   7.337742   8.297742   8.243871   \n",
      "1978-11-30  11.475000   8.743000  11.492333   9.657333  10.701333  10.676000   \n",
      "1978-12-31  11.398710   9.241613  12.077419  10.194839  10.616774  11.028710   \n",
      "\n",
      "                  BEL        MAL  \n",
      "Date                              \n",
      "1961-01-31  13.880968  14.703226  \n",
      "1961-02-28  18.583214  15.411786  \n",
      "1961-03-31  16.410968  15.720000  \n",
      "1961-04-30  11.147333  10.278333  \n",
      "1961-05-31  11.900323  12.011613  \n",
      "...               ...        ...  \n",
      "1978-08-31  10.466774  12.054194  \n",
      "1978-09-30  15.680333  19.391333  \n",
      "1978-10-31  13.776774  17.150000  \n",
      "1978-11-30  17.404667  20.723000  \n",
      "1978-12-31  13.859677  21.371613  \n",
      "\n",
      "[216 rows x 15 columns]\n"
     ]
    }
   ],
   "source": [
    "print( \"Downsample Data to Monthly Frequency:\\n\", newData.resample('M').mean())"
   ]
  },
  {
   "cell_type": "markdown",
   "id": "4b82a50a",
   "metadata": {},
   "source": [
    "### Step 14\n"
   ]
  },
  {
   "cell_type": "code",
   "execution_count": 58,
   "id": "72296877",
   "metadata": {},
   "outputs": [
    {
     "name": "stdout",
     "output_type": "stream",
     "text": [
      "Downsample Data to Weekly Frequency:\n",
      "               Yr        Mo         Dy        RPT        VAL        ROS   \n",
      "Date                                                                     \n",
      "1961-12-31  61.0  6.526027  15.720548  12.299583  10.351796  11.362369  \\\n",
      "1962-12-31  62.0  6.526027  15.720548  12.246923  10.110438  11.732712   \n",
      "1963-12-31  63.0  6.526027  15.720548  12.813452  10.836986  12.541151   \n",
      "1964-12-31  64.0  6.513661  15.756831  12.363661  10.920164  12.104372   \n",
      "1965-12-31  65.0  6.526027  15.720548  12.451370  11.075534  11.848767   \n",
      "1966-12-31  66.0  6.526027  15.720548  13.461973  11.557205  12.020630   \n",
      "1967-12-31  67.0  6.526027  15.720548  12.737151  10.990986  11.739397   \n",
      "1968-12-31  68.0  6.513661  15.756831  11.835628  10.468197  11.409754   \n",
      "1969-12-31  69.0  6.526027  15.720548  11.166356   9.723699  10.902000   \n",
      "1970-12-31  70.0  6.526027  15.720548  12.600329  10.726932  11.730247   \n",
      "1971-12-31  71.0  6.526027  15.720548  11.273123   9.095178  11.088329   \n",
      "1972-12-31  72.0  6.513661  15.756831  12.463962  10.561311  12.058333   \n",
      "1973-12-31  73.0  6.526027  15.720548  11.828466  10.680493  10.680493   \n",
      "1974-12-31  74.0  6.526027  15.720548  13.643096  11.811781  12.336356   \n",
      "1975-12-31  75.0  6.526027  15.720548  12.008575  10.293836  11.564712   \n",
      "1976-12-31  76.0  6.513661  15.756831  11.737842  10.203115  10.761230   \n",
      "1977-12-31  77.0  6.526027  15.720548  13.099616  11.144493  12.627836   \n",
      "1978-12-31  78.0  6.526027  15.720548  12.504356  11.044274  11.380000   \n",
      "\n",
      "                 KIL        SHA       BIR        DUB        CLA       MUL   \n",
      "Date                                                                        \n",
      "1961-12-31  6.958227  10.881763  7.729726   9.733923   8.858788  8.647652  \\\n",
      "1962-12-31  6.960440  10.657918  7.393068  11.020712   8.793753  8.316822   \n",
      "1963-12-31  7.330055  11.724110  8.434712  11.075699  10.336548  8.903589   \n",
      "1964-12-31  6.787787  11.454481  7.570874  10.259153   9.467350  7.789016   \n",
      "1965-12-31  6.858466  11.024795  7.478110  10.618712   8.879918  7.907425   \n",
      "1966-12-31  7.345726  11.805041  7.793671  10.579808   8.835096  8.514438   \n",
      "1967-12-31  7.143425  11.630740  7.368164  10.652027   9.325616  8.645014   \n",
      "1968-12-31  6.477678  10.760765  6.067322   8.859180   8.255519  7.224945   \n",
      "1969-12-31  5.767973   9.873918  6.189973   8.564493   7.711397  7.924521   \n",
      "1970-12-31  6.217178  10.567370  7.609452   9.609890   8.334630  9.297616   \n",
      "1971-12-31  5.241507   9.440329  6.097151   8.385890   6.757315  7.915370   \n",
      "1972-12-31  5.929699   9.430410  6.358825   9.704508   7.680792  8.357295   \n",
      "1973-12-31  5.547863   9.640877  6.548740   8.482110   7.614274  8.245534   \n",
      "1974-12-31  6.427041  11.110986  6.809781  10.084603   9.896986  9.331753   \n",
      "1975-12-31  5.269096   9.190082  5.668521   8.562603   7.843836  8.797945   \n",
      "1976-12-31  5.109426   8.846339  6.311038   9.149126   7.146202  8.883716   \n",
      "1977-12-31  6.073945  10.003836  8.586438  11.523205   8.378384  9.098192   \n",
      "1978-12-31  6.082356  10.167233  7.650658   9.489342   8.800466  9.089753   \n",
      "\n",
      "                  CLO        BEL        MAL  \n",
      "Date                                         \n",
      "1961-12-31   9.835577  13.502795  13.680773  \n",
      "1962-12-31   9.676247  12.930685  14.323956  \n",
      "1963-12-31  10.224438  13.638877  14.999014  \n",
      "1964-12-31  10.207951  13.740546  14.910301  \n",
      "1965-12-31   9.918082  12.964247  15.591644  \n",
      "1966-12-31   9.768959  14.265836  16.307260  \n",
      "1967-12-31   9.547425  14.774548  17.135945  \n",
      "1968-12-31   7.832978  12.808634  15.017486  \n",
      "1969-12-31   7.754384  12.621233  15.762904  \n",
      "1970-12-31   8.289808  13.183644  16.456027  \n",
      "1971-12-31   7.229753  12.208932  15.025233  \n",
      "1972-12-31   7.515273  12.727377  15.028716  \n",
      "1973-12-31   7.812411  12.169699  15.441096  \n",
      "1974-12-31   8.736356  13.252959  16.947671  \n",
      "1975-12-31   7.382822  12.631671  15.307863  \n",
      "1976-12-31   7.883087  12.332377  15.471448  \n",
      "1977-12-31   8.821616  13.459068  16.590849  \n",
      "1978-12-31   8.301699  12.967397  16.771370  \n"
     ]
    }
   ],
   "source": [
    "print( \"Downsample Data to Weekly Frequency:\\n\", newData.resample('Y').mean())"
   ]
  },
  {
   "cell_type": "markdown",
   "id": "6f7619c4",
   "metadata": {},
   "source": [
    "### Step 15"
   ]
  },
  {
   "cell_type": "code",
   "execution_count": 59,
   "id": "a9321bfb",
   "metadata": {},
   "outputs": [
    {
     "name": "stdout",
     "output_type": "stream",
     "text": [
      "               Yr          Mo          Dy         RPT         VAL         ROS   \n",
      "count  940.000000  940.000000  940.000000  940.000000  940.000000  940.000000  \\\n",
      "mean    69.492553    6.518237   15.715198   12.365304   10.647725   11.661255   \n",
      "std      5.194202    3.397156    6.840784    3.466600    3.372501    2.840361   \n",
      "min     61.000000    1.000000    1.000000    3.874286    2.452857    4.901429   \n",
      "25%     65.000000    3.964286   10.000000    9.884286    8.277857    9.613929   \n",
      "50%     69.285714    6.642857   16.000000   12.291429   10.486429   11.490000   \n",
      "75%     74.000000    9.285714   21.142857   14.547143   12.757857   13.457143   \n",
      "max     78.000000   12.000000   28.000000   24.010000   23.715714   21.384286   \n",
      "\n",
      "              KIL         SHA         BIR         DUB         CLA         MUL   \n",
      "count  940.000000  939.000000  940.000000  940.000000  940.000000  940.000000  \\\n",
      "mean     6.309334   10.455607    7.094787    9.801271    8.496123    8.496452   \n",
      "std      2.186432    3.146715    2.556633    3.308180    2.853029    2.638349   \n",
      "min      1.447143    2.775714    1.382857    2.471429    2.284286    2.262857   \n",
      "25%      4.742857    8.248571    5.211071    7.432500    6.470000    6.589286   \n",
      "50%      6.165714   10.254286    6.933571    9.603571    8.358571    8.394286   \n",
      "75%      7.584286   12.627143    8.842500   11.942143   10.457500   10.108571   \n",
      "max     14.517143   22.897143   16.010000   20.474286   17.861429   17.460000   \n",
      "\n",
      "              CLO         BEL         MAL  \n",
      "count  940.000000  940.000000  940.000000  \n",
      "mean     8.710639   13.125912   15.597171  \n",
      "std      2.924546    3.757189    4.468526  \n",
      "min      1.571429    3.661429    5.124286  \n",
      "25%      6.530000   10.346429   12.269286  \n",
      "50%      8.490000   12.846429   15.330714  \n",
      "75%     10.699643   15.513571   18.683929  \n",
      "max     17.932857   26.617143   30.374286  \n"
     ]
    }
   ],
   "source": [
    "year = newData[newData.index.year == 1961]\n",
    "newStats = newData.resample('W').mean().apply(lambda x: x.describe())\n",
    "print (newStats)"
   ]
  },
  {
   "cell_type": "markdown",
   "id": "fbeb1574",
   "metadata": {},
   "source": [
    "### Question 5 "
   ]
  },
  {
   "cell_type": "markdown",
   "id": "88a991e3",
   "metadata": {},
   "source": [
    "### Step 1"
   ]
  },
  {
   "cell_type": "code",
   "execution_count": 66,
   "id": "e0cc2eea",
   "metadata": {},
   "outputs": [],
   "source": [
    "import numpy as np \n",
    "import pandas as pd"
   ]
  },
  {
   "cell_type": "markdown",
   "id": "a2c8c3d9",
   "metadata": {},
   "source": [
    "### step 2 - 3"
   ]
  },
  {
   "cell_type": "code",
   "execution_count": 61,
   "id": "5ffb9ce7",
   "metadata": {},
   "outputs": [],
   "source": [
    "chipo=pd.read_csv(r'https://raw.githubusercontent.com/justmarkham/DAT8/master/data/chipotle.tsv',sep=\"\\t\")"
   ]
  },
  {
   "cell_type": "markdown",
   "id": "1adc0a25",
   "metadata": {},
   "source": [
    "### step 4"
   ]
  },
  {
   "cell_type": "code",
   "execution_count": 68,
   "id": "a5b297d7",
   "metadata": {},
   "outputs": [
    {
     "data": {
      "text/html": [
       "<div>\n",
       "<style scoped>\n",
       "    .dataframe tbody tr th:only-of-type {\n",
       "        vertical-align: middle;\n",
       "    }\n",
       "\n",
       "    .dataframe tbody tr th {\n",
       "        vertical-align: top;\n",
       "    }\n",
       "\n",
       "    .dataframe thead th {\n",
       "        text-align: right;\n",
       "    }\n",
       "</style>\n",
       "<table border=\"1\" class=\"dataframe\">\n",
       "  <thead>\n",
       "    <tr style=\"text-align: right;\">\n",
       "      <th></th>\n",
       "      <th>order_id</th>\n",
       "      <th>quantity</th>\n",
       "      <th>item_name</th>\n",
       "      <th>choice_description</th>\n",
       "      <th>item_price</th>\n",
       "    </tr>\n",
       "  </thead>\n",
       "  <tbody>\n",
       "    <tr>\n",
       "      <th>0</th>\n",
       "      <td>1</td>\n",
       "      <td>1</td>\n",
       "      <td>Chips and Fresh Tomato Salsa</td>\n",
       "      <td>NaN</td>\n",
       "      <td>$2.39</td>\n",
       "    </tr>\n",
       "    <tr>\n",
       "      <th>1</th>\n",
       "      <td>1</td>\n",
       "      <td>1</td>\n",
       "      <td>Izze</td>\n",
       "      <td>[Clementine]</td>\n",
       "      <td>$3.39</td>\n",
       "    </tr>\n",
       "    <tr>\n",
       "      <th>2</th>\n",
       "      <td>1</td>\n",
       "      <td>1</td>\n",
       "      <td>Nantucket Nectar</td>\n",
       "      <td>[Apple]</td>\n",
       "      <td>$3.39</td>\n",
       "    </tr>\n",
       "    <tr>\n",
       "      <th>3</th>\n",
       "      <td>1</td>\n",
       "      <td>1</td>\n",
       "      <td>Chips and Tomatillo-Green Chili Salsa</td>\n",
       "      <td>NaN</td>\n",
       "      <td>$2.39</td>\n",
       "    </tr>\n",
       "    <tr>\n",
       "      <th>4</th>\n",
       "      <td>2</td>\n",
       "      <td>2</td>\n",
       "      <td>Chicken Bowl</td>\n",
       "      <td>[Tomatillo-Red Chili Salsa (Hot), [Black Beans...</td>\n",
       "      <td>$16.98</td>\n",
       "    </tr>\n",
       "    <tr>\n",
       "      <th>5</th>\n",
       "      <td>3</td>\n",
       "      <td>1</td>\n",
       "      <td>Chicken Bowl</td>\n",
       "      <td>[Fresh Tomato Salsa (Mild), [Rice, Cheese, Sou...</td>\n",
       "      <td>$10.98</td>\n",
       "    </tr>\n",
       "    <tr>\n",
       "      <th>6</th>\n",
       "      <td>3</td>\n",
       "      <td>1</td>\n",
       "      <td>Side of Chips</td>\n",
       "      <td>NaN</td>\n",
       "      <td>$1.69</td>\n",
       "    </tr>\n",
       "    <tr>\n",
       "      <th>7</th>\n",
       "      <td>4</td>\n",
       "      <td>1</td>\n",
       "      <td>Steak Burrito</td>\n",
       "      <td>[Tomatillo Red Chili Salsa, [Fajita Vegetables...</td>\n",
       "      <td>$11.75</td>\n",
       "    </tr>\n",
       "    <tr>\n",
       "      <th>8</th>\n",
       "      <td>4</td>\n",
       "      <td>1</td>\n",
       "      <td>Steak Soft Tacos</td>\n",
       "      <td>[Tomatillo Green Chili Salsa, [Pinto Beans, Ch...</td>\n",
       "      <td>$9.25</td>\n",
       "    </tr>\n",
       "    <tr>\n",
       "      <th>9</th>\n",
       "      <td>5</td>\n",
       "      <td>1</td>\n",
       "      <td>Steak Burrito</td>\n",
       "      <td>[Fresh Tomato Salsa, [Rice, Black Beans, Pinto...</td>\n",
       "      <td>$9.25</td>\n",
       "    </tr>\n",
       "  </tbody>\n",
       "</table>\n",
       "</div>"
      ],
      "text/plain": [
       "   order_id  quantity                              item_name   \n",
       "0         1         1           Chips and Fresh Tomato Salsa  \\\n",
       "1         1         1                                   Izze   \n",
       "2         1         1                       Nantucket Nectar   \n",
       "3         1         1  Chips and Tomatillo-Green Chili Salsa   \n",
       "4         2         2                           Chicken Bowl   \n",
       "5         3         1                           Chicken Bowl   \n",
       "6         3         1                          Side of Chips   \n",
       "7         4         1                          Steak Burrito   \n",
       "8         4         1                       Steak Soft Tacos   \n",
       "9         5         1                          Steak Burrito   \n",
       "\n",
       "                                  choice_description item_price  \n",
       "0                                                NaN     $2.39   \n",
       "1                                       [Clementine]     $3.39   \n",
       "2                                            [Apple]     $3.39   \n",
       "3                                                NaN     $2.39   \n",
       "4  [Tomatillo-Red Chili Salsa (Hot), [Black Beans...    $16.98   \n",
       "5  [Fresh Tomato Salsa (Mild), [Rice, Cheese, Sou...    $10.98   \n",
       "6                                                NaN     $1.69   \n",
       "7  [Tomatillo Red Chili Salsa, [Fajita Vegetables...    $11.75   \n",
       "8  [Tomatillo Green Chili Salsa, [Pinto Beans, Ch...     $9.25   \n",
       "9  [Fresh Tomato Salsa, [Rice, Black Beans, Pinto...     $9.25   "
      ]
     },
     "execution_count": 68,
     "metadata": {},
     "output_type": "execute_result"
    }
   ],
   "source": [
    "chipo.head(10)"
   ]
  },
  {
   "cell_type": "markdown",
   "id": "f1d22c82",
   "metadata": {},
   "source": [
    "### Step 5"
   ]
  },
  {
   "cell_type": "code",
   "execution_count": 69,
   "id": "ed7351a6",
   "metadata": {},
   "outputs": [
    {
     "name": "stdout",
     "output_type": "stream",
     "text": [
      "4622\n"
     ]
    }
   ],
   "source": [
    "print(len(chipo))"
   ]
  },
  {
   "cell_type": "markdown",
   "id": "6a8c9eab",
   "metadata": {},
   "source": [
    "### Step 6"
   ]
  },
  {
   "cell_type": "code",
   "execution_count": 70,
   "id": "8910207f",
   "metadata": {},
   "outputs": [
    {
     "name": "stdout",
     "output_type": "stream",
     "text": [
      "5\n"
     ]
    }
   ],
   "source": [
    "print(len(chipo.columns))"
   ]
  },
  {
   "cell_type": "markdown",
   "id": "54758aa5",
   "metadata": {},
   "source": [
    "### Step 7"
   ]
  },
  {
   "cell_type": "code",
   "execution_count": 71,
   "id": "cba2140a",
   "metadata": {},
   "outputs": [
    {
     "data": {
      "text/plain": [
       "Index(['order_id', 'quantity', 'item_name', 'choice_description',\n",
       "       'item_price'],\n",
       "      dtype='object')"
      ]
     },
     "execution_count": 71,
     "metadata": {},
     "output_type": "execute_result"
    }
   ],
   "source": [
    "chipo.columns"
   ]
  },
  {
   "cell_type": "markdown",
   "id": "6a6a3c85",
   "metadata": {},
   "source": [
    "### Step 8"
   ]
  },
  {
   "cell_type": "code",
   "execution_count": 72,
   "id": "19b00430",
   "metadata": {},
   "outputs": [
    {
     "data": {
      "text/plain": [
       "RangeIndex(start=0, stop=4622, step=1)"
      ]
     },
     "execution_count": 72,
     "metadata": {},
     "output_type": "execute_result"
    }
   ],
   "source": [
    "chipo.index"
   ]
  },
  {
   "cell_type": "markdown",
   "id": "1dcf28d0",
   "metadata": {},
   "source": [
    "### Step 9 - 10"
   ]
  },
  {
   "cell_type": "code",
   "execution_count": 76,
   "id": "d998d7e2",
   "metadata": {},
   "outputs": [
    {
     "data": {
      "text/html": [
       "<div>\n",
       "<style scoped>\n",
       "    .dataframe tbody tr th:only-of-type {\n",
       "        vertical-align: middle;\n",
       "    }\n",
       "\n",
       "    .dataframe tbody tr th {\n",
       "        vertical-align: top;\n",
       "    }\n",
       "\n",
       "    .dataframe thead th {\n",
       "        text-align: right;\n",
       "    }\n",
       "</style>\n",
       "<table border=\"1\" class=\"dataframe\">\n",
       "  <thead>\n",
       "    <tr style=\"text-align: right;\">\n",
       "      <th></th>\n",
       "      <th>order_id</th>\n",
       "      <th>quantity</th>\n",
       "      <th>choice_description</th>\n",
       "      <th>item_price</th>\n",
       "    </tr>\n",
       "    <tr>\n",
       "      <th>item_name</th>\n",
       "      <th></th>\n",
       "      <th></th>\n",
       "      <th></th>\n",
       "      <th></th>\n",
       "    </tr>\n",
       "  </thead>\n",
       "  <tbody>\n",
       "    <tr>\n",
       "      <th>Chicken Bowl</th>\n",
       "      <td>713926</td>\n",
       "      <td>761</td>\n",
       "      <td>[Tomatillo-Red Chili Salsa (Hot), [Black Beans...</td>\n",
       "      <td>$16.98 $10.98 $11.25 $8.75 $8.49 $11.25 $8.75 ...</td>\n",
       "    </tr>\n",
       "  </tbody>\n",
       "</table>\n",
       "</div>"
      ],
      "text/plain": [
       "              order_id  quantity   \n",
       "item_name                          \n",
       "Chicken Bowl    713926       761  \\\n",
       "\n",
       "                                             choice_description   \n",
       "item_name                                                         \n",
       "Chicken Bowl  [Tomatillo-Red Chili Salsa (Hot), [Black Beans...  \\\n",
       "\n",
       "                                                     item_price  \n",
       "item_name                                                        \n",
       "Chicken Bowl  $16.98 $10.98 $11.25 $8.75 $8.49 $11.25 $8.75 ...  "
      ]
     },
     "execution_count": 76,
     "metadata": {},
     "output_type": "execute_result"
    }
   ],
   "source": [
    "most_ordered=chipo.groupby('item_name').sum()\n",
    "order=most_ordered.sort_values(by=['quantity'], ascending = False)\n",
    "order.head(1)"
   ]
  },
  {
   "cell_type": "markdown",
   "id": "11d1f269",
   "metadata": {},
   "source": [
    "### Step 11 - 12"
   ]
  },
  {
   "cell_type": "code",
   "execution_count": 77,
   "id": "bee53dc1",
   "metadata": {},
   "outputs": [
    {
     "data": {
      "text/html": [
       "<div>\n",
       "<style scoped>\n",
       "    .dataframe tbody tr th:only-of-type {\n",
       "        vertical-align: middle;\n",
       "    }\n",
       "\n",
       "    .dataframe tbody tr th {\n",
       "        vertical-align: top;\n",
       "    }\n",
       "\n",
       "    .dataframe thead th {\n",
       "        text-align: right;\n",
       "    }\n",
       "</style>\n",
       "<table border=\"1\" class=\"dataframe\">\n",
       "  <thead>\n",
       "    <tr style=\"text-align: right;\">\n",
       "      <th></th>\n",
       "      <th>order_id</th>\n",
       "      <th>quantity</th>\n",
       "      <th>item_name</th>\n",
       "      <th>item_price</th>\n",
       "    </tr>\n",
       "    <tr>\n",
       "      <th>choice_description</th>\n",
       "      <th></th>\n",
       "      <th></th>\n",
       "      <th></th>\n",
       "      <th></th>\n",
       "    </tr>\n",
       "  </thead>\n",
       "  <tbody>\n",
       "    <tr>\n",
       "      <th>[Diet Coke]</th>\n",
       "      <td>123455</td>\n",
       "      <td>159</td>\n",
       "      <td>Canned SodaCanned SodaCanned Soda6 Pack Soft D...</td>\n",
       "      <td>$2.18 $1.09 $1.09 $6.49 $2.18 $1.25 $1.09 $6.4...</td>\n",
       "    </tr>\n",
       "  </tbody>\n",
       "</table>\n",
       "</div>"
      ],
      "text/plain": [
       "                    order_id  quantity   \n",
       "choice_description                       \n",
       "[Diet Coke]           123455       159  \\\n",
       "\n",
       "                                                            item_name   \n",
       "choice_description                                                      \n",
       "[Diet Coke]         Canned SodaCanned SodaCanned Soda6 Pack Soft D...  \\\n",
       "\n",
       "                                                           item_price  \n",
       "choice_description                                                     \n",
       "[Diet Coke]         $2.18 $1.09 $1.09 $6.49 $2.18 $1.25 $1.09 $6.4...  "
      ]
     },
     "execution_count": 77,
     "metadata": {},
     "output_type": "execute_result"
    }
   ],
   "source": [
    "most_ordered=chipo.groupby('choice_description').sum()\n",
    "order=most_ordered.sort_values(by=['quantity'], ascending = False)\n",
    "order.head(1)"
   ]
  },
  {
   "cell_type": "markdown",
   "id": "b323d976",
   "metadata": {},
   "source": [
    "### Step 13"
   ]
  },
  {
   "cell_type": "code",
   "execution_count": 78,
   "id": "b86aa94b",
   "metadata": {},
   "outputs": [
    {
     "data": {
      "text/plain": [
       "dtype('O')"
      ]
     },
     "execution_count": 78,
     "metadata": {},
     "output_type": "execute_result"
    }
   ],
   "source": [
    "chipo.item_price.dtype  "
   ]
  },
  {
   "cell_type": "code",
   "execution_count": 81,
   "id": "7684d6f3",
   "metadata": {},
   "outputs": [],
   "source": [
    "convert_Float = lambda x: float(x[1:-1])\n",
    "chipo.item_price = chipo.item_price.apply(convert_Float)"
   ]
  },
  {
   "cell_type": "code",
   "execution_count": 82,
   "id": "2a32a99a",
   "metadata": {},
   "outputs": [
    {
     "data": {
      "text/plain": [
       "dtype('float64')"
      ]
     },
     "execution_count": 82,
     "metadata": {},
     "output_type": "execute_result"
    }
   ],
   "source": [
    "chipo.item_price.dtype  "
   ]
  },
  {
   "cell_type": "markdown",
   "id": "ac7ce9f2",
   "metadata": {},
   "source": [
    "### Step 14"
   ]
  },
  {
   "cell_type": "code",
   "execution_count": 85,
   "id": "03ecb717",
   "metadata": {},
   "outputs": [
    {
     "name": "stdout",
     "output_type": "stream",
     "text": [
      "39237.020000000055\n"
     ]
    }
   ],
   "source": [
    "total_revenue=chipo['quantity']*chipo['item_price']\n",
    "print(sum(total_revenue))\n"
   ]
  },
  {
   "cell_type": "markdown",
   "id": "d3bb8aa1",
   "metadata": {},
   "source": [
    "### Step 15"
   ]
  },
  {
   "cell_type": "code",
   "execution_count": 87,
   "id": "d22338fa",
   "metadata": {},
   "outputs": [
    {
     "data": {
      "text/plain": [
       "1834"
      ]
     },
     "execution_count": 87,
     "metadata": {},
     "output_type": "execute_result"
    }
   ],
   "source": [
    "chipo.order_id.value_counts().count()"
   ]
  },
  {
   "cell_type": "markdown",
   "id": "00a99992",
   "metadata": {},
   "source": [
    "### Step 16"
   ]
  },
  {
   "cell_type": "code",
   "execution_count": 63,
   "id": "7c390a4b",
   "metadata": {},
   "outputs": [
    {
     "name": "stdout",
     "output_type": "stream",
     "text": [
      "21.394231188658654\n"
     ]
    }
   ],
   "source": [
    "revenue = chipos['quantity'] * chipos['item_price']\n",
    "d = order_grouped = chipos.groupby(by=['order_id']).sum()\n",
    "order_grouped.mean()['revenue']"
   ]
  },
  {
   "cell_type": "markdown",
   "id": "e81de06f",
   "metadata": {},
   "source": [
    "### Step 17"
   ]
  },
  {
   "cell_type": "code",
   "execution_count": 97,
   "id": "f6a3cc4e",
   "metadata": {},
   "outputs": [
    {
     "data": {
      "text/plain": [
       "50"
      ]
     },
     "execution_count": 97,
     "metadata": {},
     "output_type": "execute_result"
    }
   ],
   "source": [
    "chipo.item_name.value_counts().count()"
   ]
  },
  {
   "cell_type": "markdown",
   "id": "1451ba8b",
   "metadata": {},
   "source": [
    "### Question 6"
   ]
  },
  {
   "cell_type": "code",
   "execution_count": 102,
   "id": "9a474145",
   "metadata": {},
   "outputs": [],
   "source": [
    "import matplotlib.pyplot as p\n",
    "import pandas as pd"
   ]
  },
  {
   "cell_type": "code",
   "execution_count": 100,
   "id": "47425c3d",
   "metadata": {},
   "outputs": [],
   "source": [
    "mar=pd.read_csv('us-marriages-divorces-1867-2014.csv')\n"
   ]
  },
  {
   "cell_type": "code",
   "execution_count": 101,
   "id": "bc056bba",
   "metadata": {},
   "outputs": [
    {
     "data": {
      "text/plain": [
       "Index(['Year', 'Marriages', 'Divorces', 'Population', 'Marriages_per_1000',\n",
       "       'Divorces_per_1000'],\n",
       "      dtype='object')"
      ]
     },
     "execution_count": 101,
     "metadata": {},
     "output_type": "execute_result"
    }
   ],
   "source": [
    "mar.columns"
   ]
  },
  {
   "cell_type": "code",
   "execution_count": 111,
   "id": "519258cd",
   "metadata": {},
   "outputs": [
    {
     "data": {
      "image/png": "[encoded data removed]",
      "text/plain": [
       "<Figure size 640x480 with 1 Axes>"
      ]
     },
     "metadata": {},
     "output_type": "display_data"
    }
   ],
   "source": [
    "import matplotlib.pyplot as p\n",
    "import pandas as pd\n",
    "\n",
    "mar = pd.read_csv(\"us-marriages-divorces-1867-2014.csv\")\n",
    "\n",
    "year = mar.Year.values\n",
    "marriage = mar.Marriages_per_1000.values\n",
    "divorce = mar.Divorces_per_1000.values\n",
    "\n",
    "p.plot(year, marriage, label=\"Marriages\")\n",
    "p.plot(year, divorce, label=\"Divorces\")\n",
    "p.xlabel(\"Years\")\n",
    "p.ylabel(\"Marriages & Divorces per capita\")\n",
    "p.title(\"Total marriages and divorces per capita in the U.S. between 1867 and 2014.\")\n",
    "p.legend()\n",
    "\n",
    "p.show()\n"
   ]
  },
  {
   "cell_type": "markdown",
   "id": "85269081",
   "metadata": {},
   "source": [
    "### Question 7"
   ]
  },
  {
   "cell_type": "code",
   "execution_count": 106,
   "id": "56fc3f25",
   "metadata": {},
   "outputs": [],
   "source": [
    "import matplotlib.pyplot as p\n",
    "import pandas as pd"
   ]
  },
  {
   "cell_type": "code",
   "execution_count": 116,
   "id": "c2af2163",
   "metadata": {},
   "outputs": [
    {
     "data": {
      "image/png": "[encoded data removed]",
      "text/plain": [
       "<Figure size 640x480 with 1 Axes>"
      ]
     },
     "metadata": {},
     "output_type": "display_data"
    }
   ],
   "source": [
    "mar = pd.read_csv(\"us-marriages-divorces-1867-2014.csv\")\n",
    "\n",
    "year1=mar.Year>=1900\n",
    "year2=mar.Year<=2000\n",
    "Data_1900_2000=mar[year1 & year2]\n",
    "p.bar(Data_1900_2000['Year'],Data_1900_2000['Marriages_per_1000'])\n",
    "p.bar(Data_1900_2000['Year'],Data_1900_2000['Divorces_per_1000'])\n",
    "\n",
    "p.bar(years, marriages, label='Marriages')\n",
    "p.bar(years, divorces, label='Divorces')\n",
    "\n",
    "p.legend()\n",
    "p.xlabel('Year')\n",
    "p.ylabel('Marriages and divorces per capita')\n",
    "p.title('Total marriages and divorces per capita in the U.S. in 1900, 1950, and 2000')\n",
    "\n",
    "p.show()\n"
   ]
  },
  {
   "cell_type": "markdown",
   "id": "39f3d6ef",
   "metadata": {},
   "source": [
    "### Question 8"
   ]
  },
  {
   "cell_type": "code",
   "execution_count": 1,
   "id": "499ebf44",
   "metadata": {},
   "outputs": [],
   "source": [
    "import matplotlib.pyplot as p\n",
    "import pandas as pd"
   ]
  },
  {
   "cell_type": "code",
   "execution_count": 2,
   "id": "818332ed",
   "metadata": {},
   "outputs": [],
   "source": [
    "actorData= pd.read_csv('actor_kill_counts.csv')"
   ]
  },
  {
   "cell_type": "code",
   "execution_count": 3,
   "id": "91554bc9",
   "metadata": {},
   "outputs": [
    {
     "data": {
      "text/plain": [
       "Index(['Actor', 'Count'], dtype='object')"
      ]
     },
     "execution_count": 3,
     "metadata": {},
     "output_type": "execute_result"
    }
   ],
   "source": [
    "actorData.columns"
   ]
  },
  {
   "cell_type": "code",
   "execution_count": 10,
   "id": "4a3da9cf",
   "metadata": {},
   "outputs": [
    {
     "data": {
      "image/png": "[encoded data removed]",
      "text/plain": [
       "<Figure size 640x480 with 1 Axes>"
      ]
     },
     "metadata": {},
     "output_type": "display_data"
    }
   ],
   "source": [
    "sort = actorData.sort_values(by='Count', ascending=True)\n",
    "names = actorData.Actor\n",
    "\n",
    "p.barh(sort['Actor'], sort['Count'], color='green') \n",
    "p.xlabel(\"Total Number of Kills\")\n",
    "p.ylabel(\"Actor Names\")\n",
    "p.title(\"Hollywood's Deadliest Actors Chart \\n\\n\")\n",
    "p.legend(labels=['Total Kills Made By Actors'])\n",
    "\n",
    "p.show()\n"
   ]
  },
  {
   "cell_type": "markdown",
   "id": "d7c96b38",
   "metadata": {},
   "source": [
    "### Question 9"
   ]
  },
  {
   "cell_type": "code",
   "execution_count": 11,
   "id": "b8b1faea",
   "metadata": {},
   "outputs": [],
   "source": [
    "data= pd.read_csv('roman-emperor-reigns.csv')"
   ]
  },
  {
   "cell_type": "code",
   "execution_count": 12,
   "id": "0d593f67",
   "metadata": {},
   "outputs": [
    {
     "data": {
      "text/plain": [
       "Index(['Emperor', 'Length_of_Reign', 'Cause_of_Death'], dtype='object')"
      ]
     },
     "execution_count": 12,
     "metadata": {},
     "output_type": "execute_result"
    }
   ],
   "source": [
    "data.columns"
   ]
  },
  {
   "cell_type": "code",
   "execution_count": 15,
   "id": "705d07a3",
   "metadata": {},
   "outputs": [
    {
     "data": {
      "image/png": "[encoded data removed]",
      "text/plain": [
       "<Figure size 640x480 with 1 Axes>"
      ]
     },
     "metadata": {},
     "output_type": "display_data"
    }
   ],
   "source": [
    "data1 = data.where(data.Cause_of_Death == \"Assassinated\").Cause_of_Death.count()\n",
    "data2 = data.Cause_of_Death.count() - data1\n",
    "label = [\"Deaths Caused by Other Reasons\", \"Assassinated\"]\n",
    "colors = [\"orange\", \"skyblue\"]\n",
    "\n",
    "p.pie([data2, data1], labels=label, colors=colors, autopct='%.2f%%')\n",
    "p.title(\"Roman Emperors Data Chart \\n\\n\")\n",
    "p.legend()\n",
    "p.show()"
   ]
  },
  {
   "cell_type": "markdown",
   "id": "58fbce4e",
   "metadata": {},
   "source": [
    "### Question 10"
   ]
  },
  {
   "cell_type": "code",
   "execution_count": 16,
   "id": "2c2f4c90",
   "metadata": {},
   "outputs": [
    {
     "data": {
      "text/plain": [
       "Index(['Year', 'Total Arcade Revenue (billions)',\n",
       "       'Computer Science Doctorates Awarded (US)'],\n",
       "      dtype='object')"
      ]
     },
     "execution_count": 16,
     "metadata": {},
     "output_type": "execute_result"
    }
   ],
   "source": [
    "data= pd.read_csv('arcade-revenue-vs-cs-doctorates.csv')\n",
    "data.columns"
   ]
  },
  {
   "cell_type": "code",
   "execution_count": 21,
   "id": "8605b40e",
   "metadata": {},
   "outputs": [
    {
     "data": {
      "image/png": "[encoded data removed]",
      "text/plain": [
       "<Figure size 640x480 with 1 Axes>"
      ]
     },
     "metadata": {},
     "output_type": "display_data"
    }
   ],
   "source": [
    "years = data.Year\n",
    "arcade = data['Total Arcade Revenue (billions)']\n",
    "phd = data['Computer Science Doctorates Awarded (US)']\n",
    "\n",
    "colors = [\"Red\", \"Blue\", \"Green\", \"Pink\", \"Black\", \"Gray\", \"Orange\", \"Yellow\", \"Brown\", \"Purple\"]\n",
    "p.scatter(arcade, phd, color=colors, s=100)  \n",
    "p.xlabel(\"Total Revenue earned by arcades\")\n",
    "p.ylabel(\"Awards won by Computer Science Doctorates\")\n",
    "p.title(\"Relationship between Total Revenue By Arcade VS Total Computer Science PhDs In US between 2000 & 2009 \\n\\n\\n\") \n",
    "p.show()\n"
   ]
  },
  {
   "cell_type": "markdown",
   "id": "de4e6bb8",
   "metadata": {},
   "source": [
    "### -------------------------------------------------------- End  Of Submission ------------------------------------------------------------------------"
   ]
  }
 ],
 "metadata": {
  "kernelspec": {
   "display_name": "Python 3 (ipykernel)",
   "language": "python",
   "name": "python3"
  },
  "language_info": {
   "codemirror_mode": {
    "name": "ipython",
    "version": 3
   },
   "file_extension": ".py",
   "mimetype": "text/x-python",
   "name": "python",
   "nbconvert_exporter": "python",
   "pygments_lexer": "ipython3",
   "version": "3.10.1"
  }
 },
 "nbformat": 4,
 "nbformat_minor": 5
}
